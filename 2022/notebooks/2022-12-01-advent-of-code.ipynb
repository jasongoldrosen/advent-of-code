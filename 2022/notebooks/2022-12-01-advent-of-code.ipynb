{
 "cells": [
  {
   "cell_type": "code",
   "execution_count": 1,
   "metadata": {},
   "outputs": [],
   "source": [
    "import numpy as np"
   ]
  },
  {
   "cell_type": "markdown",
   "metadata": {},
   "source": [
    "# 2022 Day 1"
   ]
  },
  {
   "cell_type": "code",
   "execution_count": 64,
   "metadata": {},
   "outputs": [
    {
     "data": {
      "text/plain": [
       "[50740, 47646, 45183, 56621, 54438, 46666, 61452, 65428, 58595, 49927]"
      ]
     },
     "execution_count": 64,
     "metadata": {},
     "output_type": "execute_result"
    }
   ],
   "source": [
    "aoc_day = '2022-12-01'\n",
    "test_input_file = f\"../test_inputs/{aoc_day}-input.txt\"\n",
    "input_file = f\"../inputs/{aoc_day}-input.txt\"\n",
    "try_test_inputs = False\n",
    "\n",
    "\n",
    "def preprocess_input(input:str) -> list:\n",
    "  input_list = [x for x in input.split(\"\\n\\n\")]\n",
    "  input_list = [x.split(\"\\n\") for x in input_list]\n",
    "  input_list = [np.sum([int(xx) for xx in x]) for x in input_list if x !=['']]\n",
    "  return input_list \n",
    "\n",
    "with open(test_input_file, 'r') as f:\n",
    "    test_input = preprocess_input(f.read())\n",
    "\n",
    "with open(input_file, 'r') as f:\n",
    "    input = preprocess_input(f.read())\n",
    "\n",
    "if try_test_inputs:\n",
    "    input = test_input.copy()\n",
    "    \n",
    "input[0:10]"
   ]
  },
  {
   "cell_type": "code",
   "execution_count": 65,
   "metadata": {},
   "outputs": [
    {
     "name": "stdout",
     "output_type": "stream",
     "text": [
      "Elf 151 has the most food 69912\n"
     ]
    }
   ],
   "source": [
    "# Part 1\n",
    "max_value = -1\n",
    "max_value_index = -1\n",
    "for i,v in enumerate(input):\n",
    "    if v > max_value: \n",
    "        max_value = v\n",
    "        max_value_index = i + 1\n",
    "print(f\"Elf {max_value_index} has the most food {max_value}\")"
   ]
  },
  {
   "cell_type": "code",
   "execution_count": 66,
   "metadata": {},
   "outputs": [],
   "source": [
    "# Part 2"
   ]
  },
  {
   "cell_type": "code",
   "execution_count": 68,
   "metadata": {},
   "outputs": [
    {
     "data": {
      "text/plain": [
       "[69912, 69741, 68527]"
      ]
     },
     "execution_count": 68,
     "metadata": {},
     "output_type": "execute_result"
    }
   ],
   "source": [
    "top_values_len = 3\n",
    "max_values = list(np.repeat(-1, top_values_len))\n",
    "max_value_indexes = list(np.repeat(-1, top_values_len))\n",
    "for i,v in enumerate(input):\n",
    "    \n",
    "    beats_values = (v > np.array(max_values)).sum() \n",
    "    if beats_values > 0: \n",
    "        max_values += [v]\n",
    "        max_values.sort(reverse=True)\n",
    "        max_values = max_values[0:top_values_len]\n",
    "\n",
    "max_values\n",
    "    \n"
   ]
  },
  {
   "cell_type": "code",
   "execution_count": 69,
   "metadata": {},
   "outputs": [
    {
     "data": {
      "text/plain": [
       "208180"
      ]
     },
     "execution_count": 69,
     "metadata": {},
     "output_type": "execute_result"
    }
   ],
   "source": [
    "np.sum(np.array(max_values))"
   ]
  },
  {
   "cell_type": "code",
   "execution_count": null,
   "metadata": {},
   "outputs": [],
   "source": []
  }
 ],
 "metadata": {
  "kernelspec": {
   "display_name": "Python 3",
   "language": "python",
   "name": "python3"
  },
  "language_info": {
   "codemirror_mode": {
    "name": "ipython",
    "version": 3
   },
   "file_extension": ".py",
   "mimetype": "text/x-python",
   "name": "python",
   "nbconvert_exporter": "python",
   "pygments_lexer": "ipython3",
   "version": "3.6.3"
  }
 },
 "nbformat": 4,
 "nbformat_minor": 2
}
