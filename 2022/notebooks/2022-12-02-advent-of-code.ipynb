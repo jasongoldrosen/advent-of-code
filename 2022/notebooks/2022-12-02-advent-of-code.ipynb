{
 "cells": [
  {
   "cell_type": "code",
   "execution_count": 22,
   "metadata": {},
   "outputs": [],
   "source": [
    "import numpy as np"
   ]
  },
  {
   "cell_type": "markdown",
   "metadata": {},
   "source": [
    "## 2022 Day 2"
   ]
  },
  {
   "cell_type": "code",
   "execution_count": 172,
   "metadata": {},
   "outputs": [],
   "source": [
    "aoc_day = '2022-12-02'\n",
    "test_input_file = f\"../test_inputs/{aoc_day}-input.txt\"\n",
    "input_file = f\"../inputs/{aoc_day}-input.txt\"\n",
    "try_test_inputs = False\n",
    "\n",
    "\n",
    "def preprocess_input(input:str) -> list:\n",
    "  input_list = [x.split(\" \") for x in input.split(\"\\n\")]\n",
    "  opponent = np.array([x[0] for x in input_list])\n",
    "  you = np.array([x[1] for x in input_list])\n",
    "  return opponent, you \n",
    "\n",
    "if try_test_inputs:\n",
    "    with open(test_input_file, 'r') as f:\n",
    "        opponent, you = preprocess_input(f.read())\n",
    "else:\n",
    "    with open(input_file, 'r') as f:\n",
    "        opponent, you = preprocess_input(f.read())\n",
    "\n",
    "opponent_score_dict = {'A': 1, 'B': 2, 'C':3}\n",
    "you_score_dict = {'X': 1, 'Y': 2, 'Z':3}"
   ]
  },
  {
   "cell_type": "code",
   "execution_count": 173,
   "metadata": {},
   "outputs": [
    {
     "data": {
      "text/plain": [
       "array(['B', 'B', 'C', 'C', 'B', 'C', 'A', 'B', 'A', 'A'], dtype='<U1')"
      ]
     },
     "execution_count": 173,
     "metadata": {},
     "output_type": "execute_result"
    }
   ],
   "source": [
    "opponent[0:10]\n"
   ]
  },
  {
   "cell_type": "code",
   "execution_count": 174,
   "metadata": {},
   "outputs": [
    {
     "data": {
      "text/plain": [
       "array(['Z', 'Z', 'Z', 'Z', 'X', 'Y', 'Y', 'Z', 'Z', 'Y'], dtype='<U1')"
      ]
     },
     "execution_count": 174,
     "metadata": {},
     "output_type": "execute_result"
    }
   ],
   "source": [
    "you[0:10]"
   ]
  },
  {
   "cell_type": "code",
   "execution_count": 175,
   "metadata": {},
   "outputs": [
    {
     "data": {
      "text/plain": [
       "array([9, 9, 6, ..., 9, 6, 8])"
      ]
     },
     "execution_count": 175,
     "metadata": {},
     "output_type": "execute_result"
    }
   ],
   "source": [
    "your_score = np.array([you_score_dict[x] for x in you])\n",
    "opponent_score = np.array([opponent_score_dict[x] for x in opponent])\n",
    "score_diff = your_score - opponent_score\n",
    "\n",
    "is_win = np.where((score_diff == 1 )| (score_diff == -2), 1, 0)\n",
    "is_tie = np.where(opponent_score == your_score, 1, 0)\n",
    "\n",
    "\n",
    "# If win: your score + 6 points\n",
    "# If lose: your score\n",
    "# If tie: your + opponent score\n",
    "\n",
    "round_scores = (is_win * 6) + (is_tie * 3) + your_score\n",
    "round_scores"
   ]
  },
  {
   "cell_type": "code",
   "execution_count": 176,
   "metadata": {},
   "outputs": [
    {
     "data": {
      "text/plain": [
       "15523"
      ]
     },
     "execution_count": 176,
     "metadata": {},
     "output_type": "execute_result"
    }
   ],
   "source": [
    "np.sum(round_scores)"
   ]
  },
  {
   "cell_type": "markdown",
   "metadata": {},
   "source": [
    "## Part 2"
   ]
  },
  {
   "cell_type": "code",
   "execution_count": 226,
   "metadata": {},
   "outputs": [
    {
     "data": {
      "text/plain": [
       "array([9, 9, 7, ..., 9, 7, 4])"
      ]
     },
     "execution_count": 226,
     "metadata": {},
     "output_type": "execute_result"
    }
   ],
   "source": [
    "#X means you need to lose. To lose, choose 1 \"below\" opponent\n",
    "#Y means you need to end the round in a draw, choose same as opponent\n",
    "# Z means you need to win. Choose 1 above opponent\n",
    "\n",
    "\n",
    "is_lose = np.where(you == 'X', 1, 0)\n",
    "is_tie = np.where(you == 'Y', 1, 0)\n",
    "is_win = np.where(you == 'Z', 1, 0)\n",
    "\n",
    "opponent_score\n",
    "your_calc_score = np.where(is_tie == 1, opponent_score,0)\n",
    "your_calc_score = np.where(is_lose == 1, (opponent_score-2)%3 + 1,your_calc_score)\n",
    "your_calc_score = np.where(is_win == 1, (opponent_score % 3) + 1 ,your_calc_score)\n",
    "\n",
    "round_scores = (is_win * 6) + (is_tie * 3) + your_calc_score\n",
    "round_scores"
   ]
  },
  {
   "cell_type": "code",
   "execution_count": 227,
   "metadata": {},
   "outputs": [
    {
     "data": {
      "text/plain": [
       "15702"
      ]
     },
     "execution_count": 227,
     "metadata": {},
     "output_type": "execute_result"
    }
   ],
   "source": [
    "np.sum(round_scores)"
   ]
  }
 ],
 "metadata": {
  "kernelspec": {
   "display_name": "Python 3",
   "language": "python",
   "name": "python3"
  },
  "language_info": {
   "codemirror_mode": {
    "name": "ipython",
    "version": 3
   },
   "file_extension": ".py",
   "mimetype": "text/x-python",
   "name": "python",
   "nbconvert_exporter": "python",
   "pygments_lexer": "ipython3",
   "version": "3.6.3"
  }
 },
 "nbformat": 4,
 "nbformat_minor": 2
}
