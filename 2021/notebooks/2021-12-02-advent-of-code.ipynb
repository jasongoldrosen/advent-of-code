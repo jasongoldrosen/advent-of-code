{
 "cells": [
  {
   "cell_type": "code",
   "execution_count": 5,
   "metadata": {
    "id": "32fZU3dsMDHF"
   },
   "outputs": [],
   "source": [
    "import numpy as np"
   ]
  },
  {
   "cell_type": "markdown",
   "metadata": {
    "id": "A0cOFH-vaNs7"
   },
   "source": [
    "--- Day 2: Dive! ---\n",
    "Now, you need to figure out how to pilot this thing.\n",
    "\n",
    "It seems like the submarine can take a series of commands like forward 1, down 2, or up 3:\n",
    "\n",
    "forward X increases the horizontal position by X units.\n",
    "down X increases the depth by X units.\n",
    "up X decreases the depth by X units.\n",
    "Note that since you're on a submarine, down and up affect your depth, and so they have the opposite result of what you might expect.\n",
    "\n",
    "The submarine seems to already have a planned course (your puzzle input). You should probably figure out where it's going. For example:\n",
    "```\n",
    "- forward 5\n",
    "- down 5\n",
    "- forward 8\n",
    "- up 3\n",
    "- down 8\n",
    "- forward 2\n",
    "```\n",
    "\n",
    "Your horizontal position and depth both start at 0. The steps above would then modify them as follows:\n",
    "```\n",
    "- forward 5 adds 5 to your horizontal position, a total of 5.\n",
    "down 5 adds 5 to your depth, resulting in a value of 5.\n",
    "- forward 8 adds 8 to your horizontal position, a total of 13.\n",
    "up 3 decreases your depth by 3, resulting in a value of 2.\n",
    "down 8 adds 8 to your depth, resulting in a value of 10.\n",
    "- forward 2 adds 2 to your horizontal position, a total of 15.\n",
    "```\n",
    "\n",
    "After following these instructions, you would have a horizontal position of 15 and a depth of 10. (Multiplying these together produces 150.)\n",
    "\n",
    "Calculate the horizontal position and depth you would have after following the planned course. What do you get if you multiply your final horizontal position by your final depth?\n",
    "\n"
   ]
  },
  {
   "cell_type": "code",
   "execution_count": 21,
   "metadata": {},
   "outputs": [
    {
     "data": {
      "text/plain": [
       "[['forward', '3'],\n",
       " ['down', '9'],\n",
       " ['forward', '5'],\n",
       " ['up', '1'],\n",
       " ['forward', '2'],\n",
       " ['down', '1'],\n",
       " ['down', '7'],\n",
       " ['down', '5'],\n",
       " ['up', '6'],\n",
       " ['forward', '3']]"
      ]
     },
     "execution_count": 21,
     "metadata": {},
     "output_type": "execute_result"
    }
   ],
   "source": [
    "aoc_day = '2021-12-02'\n",
    "test_input_file = f\"../test_inputs/{aoc_day}-input.txt\"\n",
    "input_file = f\"../inputs/{aoc_day}-input.txt\"\n",
    "try_test_input = False\n",
    "\n",
    "\n",
    "def preprocess_input(input:str) -> list:\n",
    "    input_list = [x for x in input.split(\"\\n\") if x != '']\n",
    "    input_list = [x.split(\" \") for x in input_list]  \n",
    "    return input_list \n",
    "\n",
    "with open(test_input_file, 'r') as f:\n",
    "    test_input = preprocess_input(f.read())\n",
    "\n",
    "with open(input_file, 'r') as f:\n",
    "    input = preprocess_input(f.read())\n",
    "\n",
    "if try_test_input:\n",
    "    input = test_input.copy()\n",
    "\n",
    "input[0:10]"
   ]
  },
  {
   "cell_type": "code",
   "execution_count": 19,
   "metadata": {
    "colab": {
     "base_uri": "https://localhost:8080/"
    },
    "executionInfo": {
     "elapsed": 159,
     "status": "ok",
     "timestamp": 1639159163943,
     "user": {
      "displayName": "Jason Goldrosen",
      "photoUrl": "https://lh3.googleusercontent.com/a-/AOh14GgDod0RfRpZL6hFberE-IYwW_VUQByReK5pGZwH-A=s64",
      "userId": "07466216754527706406"
     },
     "user_tz": 300
    },
    "id": "xePoZU3Ca0mr",
    "outputId": "c40ea589-b5b4-43ef-a46d-7d2fdcfcad8e"
   },
   "outputs": [
    {
     "name": "stdout",
     "output_type": "stream",
     "text": [
      "\n",
      "\n",
      "-------------- Part 1 Answer --------------\n",
      "\n",
      "What do you get if you multiply your final horizontal position by your final depth?\n",
      "1868935\n"
     ]
    }
   ],
   "source": [
    "#Part One \n",
    "def move_direction(direction, units, coords):\n",
    "  units = int(units)\n",
    "  if direction == 'forward':\n",
    "    coords[1] += units\n",
    "  elif direction == 'up':\n",
    "    coords[0] -= units\n",
    "  elif direction == 'down':\n",
    "    coords[0] += units\n",
    "  return coords\n",
    "\n",
    "coords = [0,0]\n",
    "for i in range(len(input)):\n",
    "  coords = move_direction(input[i][0],input[i][1],coords)\n",
    "\n",
    "final_score = coords[0] * coords[1]\n",
    "\n",
    "print(\"\\n\\n-------------- Part 1 Answer --------------\\n\")\n",
    "print(\"What do you get if you multiply your final horizontal position by your final depth?\")\n",
    "print(final_score)"
   ]
  },
  {
   "cell_type": "markdown",
   "metadata": {
    "id": "rVJCeKexgi60"
   },
   "source": [
    "## Part Two\n",
    "\n",
    "Based on your calculations, the planned course doesn't seem to make any sense. You find the submarine manual and discover that the process is actually slightly more complicated.\n",
    "\n",
    "In addition to horizontal position and depth, you'll also need to track a third value, aim, which also starts at 0. The commands also mean something entirely different than you first thought:\n",
    "```\n",
    "down X increases your aim by X units.\n",
    "up X decreases your aim by X units.\n",
    "forward X does two things:\n",
    "It increases your horizontal position by X units.\n",
    "It increases your depth by your aim multiplied by X.\n",
    "```\n",
    "Again note that since you're on a submarine, down and up do the opposite of what you might expect: \"down\" means aiming in the positive direction.\n",
    "\n",
    "Now, the above example does something different:\n",
    "```\n",
    "forward 5 adds 5 to your horizontal position, a total of 5. Because your aim is 0, your depth does not change.\n",
    "down 5 adds 5 to your aim, resulting in a value of 5.\n",
    "forward 8 adds 8 to your horizontal position, a total of 13. Because your aim is 5, your depth increases by 8*5=40.\n",
    "up 3 decreases your aim by 3, resulting in a value of 2.\n",
    "down 8 adds 8 to your aim, resulting in a value of 10.\n",
    "forward 2 adds 2 to your horizontal position, a total of 15. Because your aim is 10, your depth increases by 2*10=20 to a total of 60.\n",
    "After following these new instructions, you would have a horizontal position of 15 and a depth of 60. (Multiplying these produces 900.)\n",
    "```\n",
    "Using this new interpretation of the commands, calculate the horizontal position and depth you would have after following the planned course. What do you get if you multiply your final horizontal position by your final depth?\n",
    "\n"
   ]
  },
  {
   "cell_type": "code",
   "execution_count": 20,
   "metadata": {
    "colab": {
     "base_uri": "https://localhost:8080/"
    },
    "executionInfo": {
     "elapsed": 5,
     "status": "ok",
     "timestamp": 1639159164473,
     "user": {
      "displayName": "Jason Goldrosen",
      "photoUrl": "https://lh3.googleusercontent.com/a-/AOh14GgDod0RfRpZL6hFberE-IYwW_VUQByReK5pGZwH-A=s64",
      "userId": "07466216754527706406"
     },
     "user_tz": 300
    },
    "id": "x61OKeQrdxy2",
    "outputId": "289d043b-f1d9-42a5-91b7-2694cd63ec36"
   },
   "outputs": [
    {
     "name": "stdout",
     "output_type": "stream",
     "text": [
      "\n",
      "\n",
      "-------------- Part 2 Answer --------------\n",
      "\n",
      "What do you get if you multiply your final horizontal position by your final depth?\n",
      "1965970888\n"
     ]
    }
   ],
   "source": [
    "#Part Two\n",
    "def move_direction_p2(direction, units, coords,aim):\n",
    "  units = int(units)\n",
    "  if direction == 'forward':\n",
    "    coords[1] += units\n",
    "    coords[0] += aim * units\n",
    "  elif direction == 'up':\n",
    "    # coords[0] -= units\n",
    "    aim -= units\n",
    "  elif direction == 'down':\n",
    "    # coords[0] += units\n",
    "    aim += units\n",
    "  return coords, aim\n",
    "\n",
    "aim = 0\n",
    "coords = [0,0]\n",
    "\n",
    "for i in range(len(input)):\n",
    "  coords,aim = move_direction_p2(input[i][0],input[i][1],coords, aim)\n",
    "\n",
    "final_score = coords[0] * coords[1]\n",
    "\n",
    "print(\"\\n\\n-------------- Part 2 Answer --------------\\n\")\n",
    "print(\"What do you get if you multiply your final horizontal position by your final depth?\")\n",
    "print(final_score)"
   ]
  },
  {
   "cell_type": "code",
   "execution_count": null,
   "metadata": {
    "id": "zE7oCK_qfKa8"
   },
   "outputs": [],
   "source": []
  }
 ],
 "metadata": {
  "colab": {
   "authorship_tag": "ABX9TyPP3kJ2Vk9y9hVjbl3bhqRo",
   "name": "2021-12-02-advent-of-code.ipynb",
   "provenance": []
  },
  "kernelspec": {
   "display_name": "Python 3",
   "language": "python",
   "name": "python3"
  },
  "language_info": {
   "codemirror_mode": {
    "name": "ipython",
    "version": 3
   },
   "file_extension": ".py",
   "mimetype": "text/x-python",
   "name": "python",
   "nbconvert_exporter": "python",
   "pygments_lexer": "ipython3",
   "version": "3.6.3"
  }
 },
 "nbformat": 4,
 "nbformat_minor": 2
}
