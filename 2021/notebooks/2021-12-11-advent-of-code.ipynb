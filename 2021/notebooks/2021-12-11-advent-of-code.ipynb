{
 "cells": [
  {
   "cell_type": "code",
   "execution_count": 2,
   "metadata": {
    "executionInfo": {
     "elapsed": 194,
     "status": "ok",
     "timestamp": 1639286196540,
     "user": {
      "displayName": "Jason Goldrosen",
      "photoUrl": "https://lh3.googleusercontent.com/a-/AOh14GgDod0RfRpZL6hFberE-IYwW_VUQByReK5pGZwH-A=s64",
      "userId": "07466216754527706406"
     },
     "user_tz": 300
    },
    "id": "6tfSNBu-ba1L"
   },
   "outputs": [],
   "source": [
    "import numpy as np"
   ]
  },
  {
   "cell_type": "markdown",
   "metadata": {
    "id": "f8CZ9gDNbmH6"
   },
   "source": [
    "You enter a large cavern full of rare bioluminescent dumbo octopuses! They seem to not like the Christmas lights on your submarine, so you turn them off for now.\n",
    "\n",
    "There are 100 octopuses arranged neatly in a 10 by 10 grid. Each octopus slowly gains energy over time and flashes brightly for a moment when its energy is full. Although your lights are off, maybe you could navigate through the cave without disturbing the octopuses if you could predict when the flashes of light will happen.\n",
    "\n",
    "Each octopus has an energy level - your submarine can remotely measure the energy level of each octopus (your puzzle input). For example:\n",
    "```\n",
    "5483143223\n",
    "2745854711\n",
    "5264556173\n",
    "6141336146\n",
    "6357385478\n",
    "4167524645\n",
    "2176841721\n",
    "6882881134\n",
    "4846848554\n",
    "5283751526\n",
    "```\n",
    "The energy level of each octopus is a value between 0 and 9. Here, the top-left octopus has an energy level of 5, the bottom-right one has an energy level of 6, and so on.\n",
    "\n",
    "You can model the energy levels and flashes of light in steps. During a single step, the following occurs:\n",
    "\n",
    "First, the energy level of each octopus increases by 1.\n",
    "Then, any octopus with an energy level greater than 9 flashes. This increases the energy level of all adjacent octopuses by 1, including octopuses that are diagonally adjacent. If this causes an octopus to have an energy level greater than 9, it also flashes. This process continues as long as new octopuses keep having their energy level increased beyond 9. (An octopus can only flash at most once per step.)\n",
    "Finally, any octopus that flashed during this step has its energy level set to 0, as it used all of its energy to flash.\n",
    "Adjacent flashes can cause an octopus to flash on a step even if it begins that step with very little energy. Consider the middle octopus with 1 energy in this situation:\n",
    "```\n",
    "Before any steps:\n",
    "11111\n",
    "19991\n",
    "19191\n",
    "19991\n",
    "11111\n",
    "\n",
    "After step 1:\n",
    "34543\n",
    "40004\n",
    "50005\n",
    "40004\n",
    "34543\n",
    "\n",
    "After step 2:\n",
    "45654\n",
    "51115\n",
    "61116\n",
    "51115\n",
    "45654\n",
    "```\n",
    "An octopus is highlighted when it flashed during the given step.\n",
    "\n",
    "After 100 steps, there have been a total of 1656 flashes.\n",
    "\n",
    "Given the starting energy levels of the dumbo octopuses in your cavern, simulate 100 steps. How many total flashes are there after 100 steps?\n",
    "\n",
    "\n",
    "\n"
   ]
  },
  {
   "cell_type": "code",
   "execution_count": 7,
   "metadata": {},
   "outputs": [
    {
     "data": {
      "text/plain": [
       "array([[3, 3, 2, 2, 8, 7, 4, 6, 5, 2],\n",
       "       [5, 6, 3, 6, 5, 8, 8, 8, 5, 7],\n",
       "       [7, 7, 5, 5, 1, 1, 7, 5, 4, 8],\n",
       "       [5, 8, 5, 4, 1, 2, 1, 8, 3, 3],\n",
       "       [2, 8, 5, 6, 6, 8, 2, 4, 7, 7],\n",
       "       [3, 1, 2, 4, 8, 7, 3, 8, 1, 2],\n",
       "       [1, 5, 4, 1, 3, 7, 2, 2, 5, 4],\n",
       "       [8, 6, 3, 4, 3, 8, 3, 2, 3, 6],\n",
       "       [2, 4, 2, 4, 3, 2, 3, 3, 4, 8],\n",
       "       [2, 2, 6, 5, 6, 3, 5, 8, 4, 2]])"
      ]
     },
     "execution_count": 7,
     "metadata": {},
     "output_type": "execute_result"
    }
   ],
   "source": [
    "aoc_day = '2021-12-11'\n",
    "test_input_file = f\"../test_inputs/{aoc_day}-input.txt\"\n",
    "input_file = f\"../inputs/{aoc_day}-input.txt\"\n",
    "try_test_input = False\n",
    "\n",
    "\n",
    "def preprocess_input(input:str) -> list:\n",
    "    input = np.array([[int(x) for x in row] for row in input.split(\"\\n\") if row != \"\"])\n",
    "    return input \n",
    "\n",
    "with open(test_input_file, 'r') as f:\n",
    "    test_input = preprocess_input(f.read())\n",
    "\n",
    "with open(input_file, 'r') as f:\n",
    "    input = preprocess_input(f.read())\n",
    "\n",
    "if try_test_input:\n",
    "    input = test_input.copy()\n",
    "\n",
    "input"
   ]
  },
  {
   "cell_type": "code",
   "execution_count": 9,
   "metadata": {
    "colab": {
     "base_uri": "https://localhost:8080/"
    },
    "executionInfo": {
     "elapsed": 1061,
     "status": "ok",
     "timestamp": 1639286436880,
     "user": {
      "displayName": "Jason Goldrosen",
      "photoUrl": "https://lh3.googleusercontent.com/a-/AOh14GgDod0RfRpZL6hFberE-IYwW_VUQByReK5pGZwH-A=s64",
      "userId": "07466216754527706406"
     },
     "user_tz": 300
    },
    "id": "Prc9Iyal_Buy",
    "outputId": "ab69215e-b9cb-44ae-d150-1222518ae50a"
   },
   "outputs": [
    {
     "name": "stdout",
     "output_type": "stream",
     "text": [
      "Sum after 99 steps 1613\n",
      "Synchronized on step 510\n",
      "Synchronized on step 520\n",
      "Synchronized on step 530\n",
      "Synchronized on step 540\n",
      "Synchronized on step 550\n",
      "Synchronized on step 560\n",
      "Synchronized on step 570\n",
      "Synchronized on step 580\n",
      "Synchronized on step 590\n",
      "Synchronized on step 600\n",
      "8864\n",
      "[[0 0 0 0 0 0 0 0 0 0]\n",
      " [0 0 0 0 0 0 0 0 0 0]\n",
      " [0 0 0 0 0 0 0 0 0 0]\n",
      " [0 0 0 0 0 0 0 0 0 0]\n",
      " [0 0 0 0 0 0 0 0 0 0]\n",
      " [0 0 0 0 0 0 0 0 0 0]\n",
      " [0 0 0 0 0 0 0 0 0 0]\n",
      " [0 0 0 0 0 0 0 0 0 0]\n",
      " [0 0 0 0 0 0 0 0 0 0]\n",
      " [0 0 0 0 0 0 0 0 0 0]]\n"
     ]
    }
   ],
   "source": [
    "def find_adjacent_coords(row,col,shape):\n",
    "  row_start = max(0,row-1)\n",
    "  row_end = min(shape[1]-1,row+1)\n",
    "  col_start = max(0,col-1)\n",
    "  col_end = min(shape[0]-1,col+1)\n",
    "  row_range = np.arange(row_start,row_end+1,1)\n",
    "  col_range = np.arange(col_start,col_end+1,1)\n",
    "\n",
    "  neighbor_coords = []\n",
    "  for rowi in row_range:\n",
    "    for coli in col_range:\n",
    "      neighbor_coords += [(rowi,coli)]\n",
    "  neighbor_coords = [c for c in neighbor_coords if c != (row,col)]\n",
    "  return neighbor_coords\n",
    "\n",
    "def count_neighbors_above_threshold(x,y,grid):\n",
    "  neighbors = find_adjacent_coords(x,y,grid.shape)\n",
    "  neighbor_values = [grid[n] for n in neighbors]\n",
    "  cnt_neighbors = (np.array(neighbor_values) >= 10).sum()\n",
    "  # print([(x,y), cnt_neighbors, neighbors])\n",
    "  return cnt_neighbors\n",
    "\n",
    "\n",
    "\n",
    "grid = input.copy()\n",
    "threshold = 10\n",
    "sum_flashes = 0\n",
    "\n",
    "cnt_flashing_list = []\n",
    "update_grid = np.zeros(grid.shape)\n",
    "update_grid = update_grid + 1\n",
    "update_sum = 0\n",
    "\n",
    "for i in range(600):\n",
    "  grid += 1\n",
    "  flashed_list = []\n",
    "  for _ in range(15):\n",
    "    for row in range(grid.shape[0]):\n",
    "      for col in range(grid.shape[1]):\n",
    "        if grid[row,col] >= 10 and (row,col) not in flashed_list:\n",
    "          flashed_list += [(row,col)]\n",
    "          for coords in find_adjacent_coords(row,col,grid.shape):\n",
    "            grid[coords] += 1\n",
    "        # update_grid_temp[row,col] = count_neighbors_above_threshold(row,col,(grid+update_grid))\n",
    "  update_sum += (grid>=threshold).sum()\n",
    "  if i == 99:\n",
    "    print(f\"Sum after 99 steps {update_sum}\")\n",
    "  if (grid>=threshold).sum() == (grid.shape[0] * grid.shape[1]):\n",
    "    print(f\"Synchronized on step {i+1}\")\n",
    "  grid = np.where(grid>=threshold,0,grid)\n",
    "  # print(f\"After step {i+1}\")\n",
    "  # print(grid)\n",
    "print(update_sum)\n",
    "print(grid)"
   ]
  },
  {
   "cell_type": "code",
   "execution_count": 10,
   "metadata": {
    "colab": {
     "base_uri": "https://localhost:8080/"
    },
    "executionInfo": {
     "elapsed": 147,
     "status": "ok",
     "timestamp": 1639286226002,
     "user": {
      "displayName": "Jason Goldrosen",
      "photoUrl": "https://lh3.googleusercontent.com/a-/AOh14GgDod0RfRpZL6hFberE-IYwW_VUQByReK5pGZwH-A=s64",
      "userId": "07466216754527706406"
     },
     "user_tz": 300
    },
    "id": "mK5iF0YR_bSU",
    "outputId": "09fb59ee-24b1-40d4-e421-7e8658e1b383"
   },
   "outputs": [
    {
     "data": {
      "text/plain": [
       "0"
      ]
     },
     "execution_count": 10,
     "metadata": {},
     "output_type": "execute_result"
    }
   ],
   "source": [
    "(grid>=threshold).sum()"
   ]
  }
 ],
 "metadata": {
  "colab": {
   "authorship_tag": "ABX9TyNAoSeTzyd1wQDursSLjZuf",
   "name": "2021-12-11-advent-of-code.ipynb",
   "provenance": []
  },
  "kernelspec": {
   "display_name": "Python 3",
   "language": "python",
   "name": "python3"
  },
  "language_info": {
   "codemirror_mode": {
    "name": "ipython",
    "version": 3
   },
   "file_extension": ".py",
   "mimetype": "text/x-python",
   "name": "python",
   "nbconvert_exporter": "python",
   "pygments_lexer": "ipython3",
   "version": "3.6.3"
  }
 },
 "nbformat": 4,
 "nbformat_minor": 2
}
