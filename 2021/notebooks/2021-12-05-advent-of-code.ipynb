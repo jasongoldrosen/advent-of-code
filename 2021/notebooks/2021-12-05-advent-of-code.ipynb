{
 "cells": [
  {
   "cell_type": "code",
   "execution_count": 12,
   "metadata": {
    "executionInfo": {
     "elapsed": 114,
     "status": "ok",
     "timestamp": 1638983098899,
     "user": {
      "displayName": "Jason Goldrosen",
      "photoUrl": "https://lh3.googleusercontent.com/a-/AOh14GgDod0RfRpZL6hFberE-IYwW_VUQByReK5pGZwH-A=s64",
      "userId": "07466216754527706406"
     },
     "user_tz": 300
    },
    "id": "SGo3gneOu9Q-"
   },
   "outputs": [],
   "source": [
    "import numpy as np"
   ]
  },
  {
   "cell_type": "markdown",
   "metadata": {
    "id": "2A9HhzFivBiu"
   },
   "source": [
    "https://adventofcode.com/2021/day/5"
   ]
  },
  {
   "cell_type": "code",
   "execution_count": 15,
   "metadata": {},
   "outputs": [
    {
     "data": {
      "text/plain": [
       "['503,977 -> 843,637',\n",
       " '437,518 -> 437,225',\n",
       " '269,250 -> 625,250',\n",
       " '846,751 -> 646,751',\n",
       " '18,731 -> 402,731',\n",
       " '749,923 -> 749,986',\n",
       " '557,758 -> 557,797',\n",
       " '589,54 -> 589,616',\n",
       " '20,136 -> 819,935',\n",
       " '123,983 -> 12,983']"
      ]
     },
     "execution_count": 15,
     "metadata": {},
     "output_type": "execute_result"
    }
   ],
   "source": [
    "aoc_day = '2021-12-05'\n",
    "test_input_file = f\"../test_inputs/{aoc_day}-input.txt\"\n",
    "input_file = f\"../inputs/{aoc_day}-input.txt\"\n",
    "try_test_input = False\n",
    "\n",
    "\n",
    "def preprocess_input(input:str) -> list:\n",
    "    input_list = input.split(\"\\n\")\n",
    "    input_list = [x for x in input_list if x != '']\n",
    "    return input_list \n",
    "\n",
    "with open(test_input_file, 'r') as f:\n",
    "    test_input = preprocess_input(f.read())\n",
    "\n",
    "with open(input_file, 'r') as f:\n",
    "    input = preprocess_input(f.read())\n",
    "\n",
    "if try_test_input:\n",
    "    input = test_input.copy()\n",
    "\n",
    "input[0:10]"
   ]
  },
  {
   "cell_type": "code",
   "execution_count": 16,
   "metadata": {
    "executionInfo": {
     "elapsed": 8,
     "status": "ok",
     "timestamp": 1638983099317,
     "user": {
      "displayName": "Jason Goldrosen",
      "photoUrl": "https://lh3.googleusercontent.com/a-/AOh14GgDod0RfRpZL6hFberE-IYwW_VUQByReK5pGZwH-A=s64",
      "userId": "07466216754527706406"
     },
     "user_tz": 300
    },
    "id": "e3MJLD5bvDFF"
   },
   "outputs": [],
   "source": [
    "rows = 9\n",
    "columns = 9\n",
    "\n",
    "start_values = [x.split(\" -> \")[0].split(',') for x in input]\n",
    "end_values = [x.split(\" -> \")[1].split(',') for x in input]\n",
    "start_values\n",
    "\n",
    "\n",
    "for a in range(len(start_values)):\n",
    "  start_values[a][0] = int(start_values[a][0])\n",
    "  start_values[a][1] = int(start_values[a][1])\n",
    "  start_values[a] = tuple(start_values[a])\n",
    "start_values = tuple(start_values)\n",
    "\n",
    "for a in range(len(end_values)):\n",
    "  end_values[a][0] = int(end_values[a][0])\n",
    "  end_values[a][1] = int(end_values[a][1])\n",
    "  end_values[a] = tuple(end_values[a])\n",
    "end_values = tuple(end_values)\n"
   ]
  },
  {
   "cell_type": "code",
   "execution_count": 17,
   "metadata": {
    "executionInfo": {
     "elapsed": 7,
     "status": "ok",
     "timestamp": 1638983099318,
     "user": {
      "displayName": "Jason Goldrosen",
      "photoUrl": "https://lh3.googleusercontent.com/a-/AOh14GgDod0RfRpZL6hFberE-IYwW_VUQByReK5pGZwH-A=s64",
      "userId": "07466216754527706406"
     },
     "user_tz": 300
    },
    "id": "Hv5UFQszsmlf"
   },
   "outputs": [],
   "source": [
    "def return_covered_points(a,b):\n",
    "  if a[0] == b[0]:\n",
    "    start = min(a[1],b[1])\n",
    "    stop = max(a[1],b[1])\n",
    "    coordinates = [(a[0], x) for x in range(start,stop+1)]\n",
    "  elif a[1] == b[1]:\n",
    "    start = min(a[0],b[0])\n",
    "    stop = max(a[0],b[0])\n",
    "    coordinates = [(x, a[1]) for x in range(start,stop+1)]\n",
    "  elif abs(a[0] - b[0]) == abs(a[1] - b[1]):\n",
    "    if a[0] < b[0]:\n",
    "      start = a[0]\n",
    "      stop = b[0]\n",
    "      x_coords = [x for x in range(start,stop+1)]\n",
    "    else:\n",
    "      start = -1 * a[0]\n",
    "      stop = -1 * b[0]\n",
    "      x_coords = [-1 * x for x in range(start,stop+1)]\n",
    "    if a[1] < b[1]:\n",
    "      start = a[1]\n",
    "      stop = b[1]\n",
    "      y_coords = [x for x in range(start,stop+1)]\n",
    "    else:\n",
    "      start = -1 * a[1]\n",
    "      stop = -1 * b[1]\n",
    "      y_coords = [-1 * x for x in range(start,stop+1)]\n",
    "    coordinates = [(a,b) for a,b in zip(x_coords, y_coords)]\n",
    "  else:\n",
    "    coordinates = []\n",
    "  return coordinates\n"
   ]
  },
  {
   "cell_type": "code",
   "execution_count": 20,
   "metadata": {
    "colab": {
     "base_uri": "https://localhost:8080/"
    },
    "executionInfo": {
     "elapsed": 133,
     "status": "ok",
     "timestamp": 1638983099608,
     "user": {
      "displayName": "Jason Goldrosen",
      "photoUrl": "https://lh3.googleusercontent.com/a-/AOh14GgDod0RfRpZL6hFberE-IYwW_VUQByReK5pGZwH-A=s64",
      "userId": "07466216754527706406"
     },
     "user_tz": 300
    },
    "id": "ZyYeawu3yQk-",
    "outputId": "68869bd4-8fb5-4ce8-8bd2-3955b7e06b98"
   },
   "outputs": [
    {
     "name": "stdout",
     "output_type": "stream",
     "text": [
      "\n",
      "\n",
      "-------------- Part 2 Answer --------------\n",
      "\n",
      "At how many points do at least two lines overlap?: 19771\n"
     ]
    }
   ],
   "source": [
    "row_max = max(\n",
    "    max([a[0] for a in start_values]),\n",
    "    max([a[1] for a in start_values]),\n",
    "    max([a[0] for a in end_values]),\n",
    "    max([a[1] for a in end_values])\n",
    "    )\n",
    "\n",
    "grid = np.zeros((row_max+1,row_max+1))\n",
    "\n",
    "line_coordinates = [return_covered_points(a,b) for (a,b) in zip(start_values, end_values)]\n",
    "for line in line_coordinates:\n",
    "  if len(line) > 0:\n",
    "    for point in line:\n",
    "      grid[point] += 1\n",
    "\n",
    "\n",
    "print(\"\\n\\n-------------- Part 2 Answer --------------\\n\")\n",
    "print(f\"At how many points do at least two lines overlap?: {(grid >= 2).sum()}\")"
   ]
  }
 ],
 "metadata": {
  "colab": {
   "authorship_tag": "ABX9TyPzL8jlPJqp0C6h/0S/kGr6",
   "collapsed_sections": [],
   "name": "2021-12-05-advent-of-code.ipynb",
   "provenance": []
  },
  "kernelspec": {
   "display_name": "Python 3",
   "language": "python",
   "name": "python3"
  },
  "language_info": {
   "codemirror_mode": {
    "name": "ipython",
    "version": 3
   },
   "file_extension": ".py",
   "mimetype": "text/x-python",
   "name": "python",
   "nbconvert_exporter": "python",
   "pygments_lexer": "ipython3",
   "version": "3.6.3"
  }
 },
 "nbformat": 4,
 "nbformat_minor": 2
}
