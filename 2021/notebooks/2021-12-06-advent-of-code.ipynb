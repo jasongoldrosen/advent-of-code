{
 "cells": [
  {
   "cell_type": "code",
   "execution_count": 1,
   "metadata": {
    "executionInfo": {
     "elapsed": 10,
     "status": "ok",
     "timestamp": 1639146981750,
     "user": {
      "displayName": "Jason Goldrosen",
      "photoUrl": "https://lh3.googleusercontent.com/a-/AOh14GgDod0RfRpZL6hFberE-IYwW_VUQByReK5pGZwH-A=s64",
      "userId": "07466216754527706406"
     },
     "user_tz": 300
    },
    "id": "TIwXTKUVvq2z"
   },
   "outputs": [],
   "source": [
    "import numpy as np"
   ]
  },
  {
   "cell_type": "markdown",
   "metadata": {
    "id": "csPmEf7p2byW"
   },
   "source": [
    "https://adventofcode.com/2021/day/6"
   ]
  },
  {
   "cell_type": "code",
   "execution_count": null,
   "metadata": {
    "id": "VO4UjCnHxu57"
   },
   "outputs": [],
   "source": [
    "def count_fish_population(fish):\n",
    "  fish_pop = []\n",
    "  for i in range(9):\n",
    "    fish_pop += [(fish == i).sum()]\n",
    "  return fish_pop"
   ]
  },
  {
   "cell_type": "code",
   "execution_count": 7,
   "metadata": {
    "colab": {
     "base_uri": "https://localhost:8080/"
    },
    "executionInfo": {
     "elapsed": 119,
     "status": "ok",
     "timestamp": 1639147047341,
     "user": {
      "displayName": "Jason Goldrosen",
      "photoUrl": "https://lh3.googleusercontent.com/a-/AOh14GgDod0RfRpZL6hFberE-IYwW_VUQByReK5pGZwH-A=s64",
      "userId": "07466216754527706406"
     },
     "user_tz": 300
    },
    "id": "zblU2elFucNS",
    "outputId": "0077b166-c958-419b-8c5f-e9a6686387f5"
   },
   "outputs": [
    {
     "name": "stdout",
     "output_type": "stream",
     "text": [
      "Transition matrix\n",
      "[[0. 0. 0. 0. 0. 0. 1. 0. 1.]\n",
      " [1. 0. 0. 0. 0. 0. 0. 0. 0.]\n",
      " [0. 1. 0. 0. 0. 0. 0. 0. 0.]\n",
      " [0. 0. 1. 0. 0. 0. 0. 0. 0.]\n",
      " [0. 0. 0. 1. 0. 0. 0. 0. 0.]\n",
      " [0. 0. 0. 0. 1. 0. 0. 0. 0.]\n",
      " [0. 0. 0. 0. 0. 1. 0. 0. 0.]\n",
      " [0. 0. 0. 0. 0. 0. 1. 0. 0.]\n",
      " [0. 0. 0. 0. 0. 0. 0. 1. 0.]]\n",
      "Starting fish\n",
      "[ 0 96 54 48 51 51  0  0  0]\n",
      "After 10 days: 750.0\n",
      "After 20 days: 1992.0\n",
      "After 30 days: 4593.0\n",
      "After 40 days: 10497.0\n",
      "After 50 days: 26139.0\n",
      "After 60 days: 62031.0\n",
      "After 70 days: 147417.0\n",
      "After 80 days: 355386.0\n",
      "After 90 days: 837552.0\n",
      "After 100 days: 2025447.0\n",
      "After 110 days: 4839195.0\n",
      "After 120 days: 11443596.0\n",
      "After 130 days: 27672981.0\n",
      "After 140 days: 65771748.0\n",
      "After 150 days: 156774966.0\n",
      "After 160 days: 377399241.0\n",
      "After 170 days: 895529862.0\n",
      "After 180 days: 2146039836.0\n",
      "After 190 days: 5140774788.0\n",
      "After 200 days: 12220225728.0\n",
      "After 210 days: 29334033681.0\n",
      "After 220 days: 70018746918.0\n",
      "After 230 days: 166951018581.0\n",
      "After 240 days: 400431510900.0\n",
      "After 250 days: 954356387721.0\n",
      "After 256 days: 1613415325809.0\n"
     ]
    }
   ],
   "source": [
    "# starting_fish = np.array([3,4,3,1,2])\n",
    "starting_fish = np.array([5,1,4,1,5,1,1,5,4,4,4,4,5,1,2,2,1,3,4,1,1,5,1,5,2,2,2,2,1,4,2,4,3,3,3,3,1,1,1,4,3,4,3,1,2,1,5,1,1,4,3,3,1,5,3,4,1,1,3,5,2,4,1,5,3,3,5,4,2,2,3,2,1,1,4,1,2,4,4,2,1,4,3,3,4,4,5,3,4,5,1,1,3,2,5,1,5,1,1,5,2,1,1,4,3,2,5,2,1,1,4,1,5,5,3,4,1,5,4,5,3,1,1,1,4,5,3,1,1,1,5,3,3,5,1,4,1,1,3,2,4,1,3,1,4,5,5,1,4,4,4,2,2,5,5,5,5,5,1,2,3,1,1,2,2,2,2,4,4,1,5,4,5,2,1,2,5,4,4,3,2,1,5,1,4,5,1,4,3,4,1,3,1,5,5,3,1,1,5,1,1,1,2,1,2,2,1,4,3,2,4,4,4,3,1,1,1,5,5,5,3,2,5,2,1,1,5,4,1,2,1,1,1,1,1,2,1,1,4,2,1,3,4,2,3,1,2,2,3,3,4,3,5,4,1,3,1,1,1,2,5,2,4,5,2,3,3,2,1,2,1,1,2,5,3,1,5,2,2,5,1,3,3,2,5,1,3,1,1,3,1,1,2,2,2,3,1,1,4,2])\n",
    "\n",
    "transition_matrix = np.zeros((9,9))\n",
    "\n",
    "for i in range(9):\n",
    "  try:\n",
    "    transition_matrix[i+1,i] = 1\n",
    "  except:\n",
    "    pass\n",
    "transition_matrix[0,8] = 1 \n",
    "transition_matrix[0,6] = 1 \n",
    "\n",
    "print(\"Transition matrix\")\n",
    "print(transition_matrix)\n",
    "\n",
    "fish = np.array(count_fish_population(starting_fish))\n",
    "\n",
    "print(\"Starting fish\")\n",
    "print(fish)\n",
    "days = 256\n",
    "\n",
    "for i in range(1,days + 1):\n",
    "  fish = np.matmul(fish,transition_matrix)\n",
    "  if (i % 10 == 0) or (i == days):\n",
    "    print(f\"After {i} days: {fish.sum()}\")\n",
    "\n"
   ]
  },
  {
   "cell_type": "code",
   "execution_count": 5,
   "metadata": {
    "executionInfo": {
     "elapsed": 5,
     "status": "ok",
     "timestamp": 1639146981904,
     "user": {
      "displayName": "Jason Goldrosen",
      "photoUrl": "https://lh3.googleusercontent.com/a-/AOh14GgDod0RfRpZL6hFberE-IYwW_VUQByReK5pGZwH-A=s64",
      "userId": "07466216754527706406"
     },
     "user_tz": 300
    },
    "id": "cCbnr3B76E-5"
   },
   "outputs": [],
   "source": []
  }
 ],
 "metadata": {
  "colab": {
   "authorship_tag": "ABX9TyPGFXB7otVbGnDTWwx/E5Lu",
   "name": "2021-12-06-advent-of-code.ipynb",
   "provenance": [
    {
     "file_id": "1-MGKeYA96uzgCK5Syv9cIEO40cGhllAQ",
     "timestamp": 1638896592733
    }
   ]
  },
  "kernelspec": {
   "display_name": "Python 3",
   "language": "python",
   "name": "python3"
  },
  "language_info": {
   "codemirror_mode": {
    "name": "ipython",
    "version": 3
   },
   "file_extension": ".py",
   "mimetype": "text/x-python",
   "name": "python",
   "nbconvert_exporter": "python",
   "pygments_lexer": "ipython3",
   "version": "3.6.3"
  }
 },
 "nbformat": 4,
 "nbformat_minor": 2
}
