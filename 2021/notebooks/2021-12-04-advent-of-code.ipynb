{
 "cells": [
  {
   "cell_type": "code",
   "execution_count": 9,
   "metadata": {
    "executionInfo": {
     "elapsed": 162,
     "status": "ok",
     "timestamp": 1639088421465,
     "user": {
      "displayName": "Jason Goldrosen",
      "photoUrl": "https://lh3.googleusercontent.com/a-/AOh14GgDod0RfRpZL6hFberE-IYwW_VUQByReK5pGZwH-A=s64",
      "userId": "07466216754527706406"
     },
     "user_tz": 300
    },
    "id": "FMxsyN6lR6VG"
   },
   "outputs": [],
   "source": [
    "import numpy as np"
   ]
  },
  {
   "cell_type": "markdown",
   "metadata": {
    "id": "3Cy0QL7ASAZi"
   },
   "source": [
    "https://adventofcode.com/2021/day/4"
   ]
  },
  {
   "cell_type": "code",
   "execution_count": 30,
   "metadata": {},
   "outputs": [
    {
     "data": {
      "text/plain": [
       "'22 13 17 11  0\\n 8  2 23  4 24\\n21  9 14 16  7\\n 6 10  3 18  5\\n 1 12 20 15 19\\n\\n 3 15  0  2 22\\n 9 18 13 '"
      ]
     },
     "execution_count": 30,
     "metadata": {},
     "output_type": "execute_result"
    }
   ],
   "source": [
    "aoc_day = '2021-12-04'\n",
    "test_input_file = f\"../test_inputs/{aoc_day}-input.txt\"\n",
    "input_file = f\"../inputs/{aoc_day}-input.txt\"\n",
    "try_test_input = True\n",
    "folder = \"../inputs/\"\n",
    "\n",
    "if try_test_input:\n",
    "    folder = \"../test_inputs/\"\n",
    "\n",
    "with open(f\"{folder}{aoc_day}-input_numbers.txt\", 'r') as f:\n",
    "    input_numbers = f.read()\n",
    "\n",
    "with open(f\"{folder}{aoc_day}-input_boards.txt\", 'r') as f:\n",
    "    input_boards = f.read()\n",
    "    \n",
    "\n",
    "input_numbers[0:10]\n",
    "input_boards[0:100]"
   ]
  },
  {
   "cell_type": "code",
   "execution_count": 31,
   "metadata": {
    "executionInfo": {
     "elapsed": 4,
     "status": "ok",
     "timestamp": 1639088421856,
     "user": {
      "displayName": "Jason Goldrosen",
      "photoUrl": "https://lh3.googleusercontent.com/a-/AOh14GgDod0RfRpZL6hFberE-IYwW_VUQByReK5pGZwH-A=s64",
      "userId": "07466216754527706406"
     },
     "user_tz": 300
    },
    "id": "-AUpe9mRHpE-"
   },
   "outputs": [],
   "source": [
    "def clean_boards(input_boards):\n",
    "  input_boards = [x for x in input_boards.split(\"\\n\") if x not in [\"\", \" \"]]\n",
    "  input_boards = [x.split(\" \") for x in input_boards]\n",
    "  for i in range(len(input_boards)):\n",
    "    input_boards[i] = [int(x) for x in input_boards[i] if x != '']\n",
    "\n",
    "\n",
    "  board_list = []\n",
    "  start = 0 \n",
    "  stop = start + 5\n",
    "  while start < len(input_boards):\n",
    "    board_list += [np.array(input_boards[start:stop])]\n",
    "    start += 5\n",
    "    stop += 5\n",
    "  return board_list\n",
    "\n",
    "def clean_numbers(input_numbers):\n",
    "  return [int(x) for x in input_numbers.split(\",\")]\n",
    "\n",
    "def update_results(board, result, drawn_number):\n",
    "  coords_list = np.argwhere(board == drawn_number)\n",
    "  if len(coords_list) >0:\n",
    "    for coords in coords_list:\n",
    "      result[coords[0], coords[1]] = True\n",
    "  return result\n",
    "\n",
    "def is_winner(result):\n",
    "  winning_row = result.all(axis=1).any()\n",
    "  winning_col = result.all(axis=0).any()\n",
    "\n",
    "  is_winner = False\n",
    "  if winning_row or winning_col:\n",
    "    is_winner = True\n",
    "  return is_winner\n"
   ]
  },
  {
   "cell_type": "markdown",
   "metadata": {},
   "source": [
    "## Part One"
   ]
  },
  {
   "cell_type": "code",
   "execution_count": 34,
   "metadata": {
    "colab": {
     "base_uri": "https://localhost:8080/"
    },
    "executionInfo": {
     "elapsed": 195,
     "status": "ok",
     "timestamp": 1639088422048,
     "user": {
      "displayName": "Jason Goldrosen",
      "photoUrl": "https://lh3.googleusercontent.com/a-/AOh14GgDod0RfRpZL6hFberE-IYwW_VUQByReK5pGZwH-A=s64",
      "userId": "07466216754527706406"
     },
     "user_tz": 300
    },
    "id": "Jb32o5fIHNdR",
    "outputId": "02062bca-5f60-4407-ba5e-3aa1e1494d58"
   },
   "outputs": [
    {
     "name": "stdout",
     "output_type": "stream",
     "text": [
      "\n",
      "\n",
      "-------------- Part 1 Answer --------------\n",
      "\n",
      "Winning Board: 2\n",
      "Final Number: 24\n",
      "Final Score: 4512\n"
     ]
    }
   ],
   "source": [
    "# Part One\n",
    "board_list = clean_boards(input_boards)\n",
    "bingo_numbers = np.array(clean_numbers(input_numbers))\n",
    "\n",
    "# Create results tab\n",
    "results_list = []\n",
    "for i in range(len(board_list)):\n",
    "  results = (board_list[i] == -9999)\n",
    "  results_list += [results]\n",
    "\n",
    "\n",
    "for drawn_number in bingo_numbers:\n",
    "  is_winner_list = []\n",
    "  for i in range(len(board_list)):\n",
    "    results_list[i] = update_results(board_list[i], results_list[i], drawn_number) \n",
    "    is_winner_list += [is_winner(results_list[i])]\n",
    "  if len([x for x in is_winner_list if x == True]) > 0:\n",
    "    winning_board = is_winner_list.index(True)\n",
    "    break \n",
    "\n",
    "uncalled_numbers = board_list[winning_board][results_list[winning_board] == False]\n",
    "score = uncalled_numbers.sum() * drawn_number\n",
    "print(\"\\n\\n-------------- Part 1 Answer --------------\\n\")\n",
    "print(f\"Winning Board: {winning_board}\")\n",
    "print(f\"Final Number: {drawn_number}\")\n",
    "print(f\"Final Score: {score}\")"
   ]
  },
  {
   "cell_type": "markdown",
   "metadata": {},
   "source": [
    "## Part Two"
   ]
  },
  {
   "cell_type": "code",
   "execution_count": 33,
   "metadata": {
    "colab": {
     "base_uri": "https://localhost:8080/"
    },
    "executionInfo": {
     "elapsed": 169,
     "status": "ok",
     "timestamp": 1639088422215,
     "user": {
      "displayName": "Jason Goldrosen",
      "photoUrl": "https://lh3.googleusercontent.com/a-/AOh14GgDod0RfRpZL6hFberE-IYwW_VUQByReK5pGZwH-A=s64",
      "userId": "07466216754527706406"
     },
     "user_tz": 300
    },
    "id": "qBBGvUhtOUDZ",
    "outputId": "23b98756-ec6d-496d-e143-e6b418d6d05d"
   },
   "outputs": [
    {
     "name": "stdout",
     "output_type": "stream",
     "text": [
      "\n",
      "\n",
      "-------------- Part 2 Answer --------------\n",
      "\n",
      "Last Winning Board: 1\n",
      "Final Number: 13\n",
      "Final Score: 1924\n"
     ]
    }
   ],
   "source": [
    "# Part Two\n",
    "board_list = clean_boards(input_boards)\n",
    "bingo_numbers = np.array(clean_numbers(input_numbers))\n",
    "\n",
    "# Create results tab\n",
    "results_list = []\n",
    "for i in range(len(board_list)):\n",
    "  results = (board_list[i] == -9999)\n",
    "  results_list += [results]\n",
    "\n",
    "winning_board_list = []\n",
    "for drawn_number in bingo_numbers:\n",
    "  is_winner_list = []\n",
    "  for i in range(len(board_list)):\n",
    "    results_list[i] = update_results(board_list[i], results_list[i], drawn_number) \n",
    "    is_winner_list += [is_winner(results_list[i])]\n",
    "  if len([x for x in is_winner_list if x == True]) > 0:\n",
    "    current_winners = [k for k,v in enumerate(is_winner_list) if v == True]\n",
    "    new_winners = [x for x in current_winners if x not in winning_board_list]\n",
    "    winning_board_list += new_winners\n",
    "  if np.array(is_winner_list).all() == True:\n",
    "    break \n",
    "\n",
    "last_winning_board = winning_board_list[-1]\n",
    "uncalled_numbers = board_list[last_winning_board][results_list[last_winning_board] == False]\n",
    "score = uncalled_numbers.sum() * drawn_number\n",
    "print(\"\\n\\n-------------- Part 2 Answer --------------\\n\")\n",
    "print(f\"Last Winning Board: {last_winning_board}\")\n",
    "print(f\"Final Number: {drawn_number}\")\n",
    "print(f\"Final Score: {score}\")"
   ]
  },
  {
   "cell_type": "code",
   "execution_count": null,
   "metadata": {},
   "outputs": [],
   "source": []
  }
 ],
 "metadata": {
  "colab": {
   "authorship_tag": "ABX9TyM3r4u3hEB3GTY3f9t0SX0m",
   "name": "2021-12-04-advent-of-code.ipynb",
   "provenance": []
  },
  "kernelspec": {
   "display_name": "Python 3",
   "language": "python",
   "name": "python3"
  },
  "language_info": {
   "codemirror_mode": {
    "name": "ipython",
    "version": 3
   },
   "file_extension": ".py",
   "mimetype": "text/x-python",
   "name": "python",
   "nbconvert_exporter": "python",
   "pygments_lexer": "ipython3",
   "version": "3.6.3"
  }
 },
 "nbformat": 4,
 "nbformat_minor": 2
}
