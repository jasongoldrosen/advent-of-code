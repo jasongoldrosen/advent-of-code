{
 "cells": [
  {
   "cell_type": "code",
   "execution_count": 1,
   "metadata": {
    "executionInfo": {
     "elapsed": 121,
     "status": "ok",
     "timestamp": 1639153824622,
     "user": {
      "displayName": "Jason Goldrosen",
      "photoUrl": "https://lh3.googleusercontent.com/a-/AOh14GgDod0RfRpZL6hFberE-IYwW_VUQByReK5pGZwH-A=s64",
      "userId": "07466216754527706406"
     },
     "user_tz": 300
    },
    "id": "1Kq06f6pSRI2"
   },
   "outputs": [],
   "source": [
    "import numpy as np\n",
    "from collections import Counter"
   ]
  },
  {
   "cell_type": "markdown",
   "metadata": {
    "id": "JcB6w4Qo1qJF"
   },
   "source": [
    "https://adventofcode.com/2021/day/3"
   ]
  },
  {
   "cell_type": "code",
   "execution_count": 14,
   "metadata": {},
   "outputs": [
    {
     "data": {
      "text/plain": [
       "['011110111110',\n",
       " '110111000111',\n",
       " '001000001010',\n",
       " '000101111101',\n",
       " '101011011110',\n",
       " '010010010111',\n",
       " '111101001100',\n",
       " '111101011100',\n",
       " '110011101101',\n",
       " '001111010011']"
      ]
     },
     "execution_count": 14,
     "metadata": {},
     "output_type": "execute_result"
    }
   ],
   "source": [
    "aoc_day = '2021-12-03'\n",
    "test_input_file = f\"../test_inputs/{aoc_day}-input.txt\"\n",
    "input_file = f\"../inputs/{aoc_day}-input.txt\"\n",
    "try_test_input = False\n",
    "\n",
    "\n",
    "def preprocess_input(input:str) -> list:\n",
    "    input_list = [x for x in input.split(\"\\n\") if x != '']\n",
    "    return input_list \n",
    "\n",
    "with open(test_input_file, 'r') as f:\n",
    "    test_input = preprocess_input(f.read())\n",
    "\n",
    "with open(input_file, 'r') as f:\n",
    "    input = preprocess_input(f.read())\n",
    "\n",
    "if try_test_input:\n",
    "    input = test_input.copy()\n",
    "\n",
    "input[0:10]"
   ]
  },
  {
   "cell_type": "code",
   "execution_count": 15,
   "metadata": {
    "executionInfo": {
     "elapsed": 3,
     "status": "ok",
     "timestamp": 1639153839282,
     "user": {
      "displayName": "Jason Goldrosen",
      "photoUrl": "https://lh3.googleusercontent.com/a-/AOh14GgDod0RfRpZL6hFberE-IYwW_VUQByReK5pGZwH-A=s64",
      "userId": "07466216754527706406"
     },
     "user_tz": 300
    },
    "id": "zDx2yTnO1yrE"
   },
   "outputs": [],
   "source": [
    "cols = len(input[0])\n",
    "rows = len(input)\n",
    "gamma_rate = ''\n",
    "epsilon_rate = ''\n",
    "for col in range(cols):\n",
    "  temp_list = []\n",
    "  for row in range(rows):\n",
    "    temp_list += [input[row][col]]\n",
    "  most_common = Counter(temp_list).most_common(1)[0][0]\n",
    "  least_common = Counter(temp_list).most_common(2)[1][0]\n",
    "  gamma_rate += most_common\n",
    "  epsilon_rate += least_common"
   ]
  },
  {
   "cell_type": "code",
   "execution_count": 16,
   "metadata": {
    "colab": {
     "base_uri": "https://localhost:8080/"
    },
    "executionInfo": {
     "elapsed": 407,
     "status": "ok",
     "timestamp": 1639153840686,
     "user": {
      "displayName": "Jason Goldrosen",
      "photoUrl": "https://lh3.googleusercontent.com/a-/AOh14GgDod0RfRpZL6hFberE-IYwW_VUQByReK5pGZwH-A=s64",
      "userId": "07466216754527706406"
     },
     "user_tz": 300
    },
    "id": "2aQ8CdRq2DTw",
    "outputId": "11ba7371-2a5a-47eb-ff16-3f7fe5142458"
   },
   "outputs": [
    {
     "name": "stdout",
     "output_type": "stream",
     "text": [
      "\n",
      "\n",
      "-------------- Part 1 Answer --------------\n",
      "\n",
      "What is the power consumption of the submarine?\n",
      "852500\n"
     ]
    }
   ],
   "source": [
    "def binary_to_int(x):\n",
    "  decimal_num = 0\n",
    "  for position, value in enumerate(x[::-1]):\n",
    "    decimal_num += int(value) * (2 ** position)\n",
    "  return decimal_num\n",
    "\n",
    "def calc_power(gamma_rate, epsilon_rate):\n",
    "  gamma_rate_dec = binary_to_int(gamma_rate)\n",
    "  epsilon_rate_dec = binary_to_int(epsilon_rate)\n",
    "  return epsilon_rate_dec * gamma_rate_dec\n",
    "\n",
    "power_consumption = calc_power(gamma_rate, epsilon_rate)\n",
    "\n",
    "print(\"\\n\\n-------------- Part 1 Answer --------------\\n\")\n",
    "print(\"What is the power consumption of the submarine?\")\n",
    "print(power_consumption)"
   ]
  },
  {
   "cell_type": "code",
   "execution_count": 19,
   "metadata": {
    "colab": {
     "base_uri": "https://localhost:8080/"
    },
    "executionInfo": {
     "elapsed": 198,
     "status": "ok",
     "timestamp": 1639153840882,
     "user": {
      "displayName": "Jason Goldrosen",
      "photoUrl": "https://lh3.googleusercontent.com/a-/AOh14GgDod0RfRpZL6hFberE-IYwW_VUQByReK5pGZwH-A=s64",
      "userId": "07466216754527706406"
     },
     "user_tz": 300
    },
    "id": "CHogxhVoA4Dg",
    "outputId": "c23178c3-1316-48cc-a144-12b2402a5a96"
   },
   "outputs": [
    {
     "name": "stdout",
     "output_type": "stream",
     "text": [
      "\n",
      "\n",
      "-------------- Part 2 Answer --------------\n",
      "\n",
      "What is the life support rating of the submarine?\n",
      "1007985\n"
     ]
    }
   ],
   "source": [
    "# part 2\n",
    "from scipy.stats import mode\n",
    "\n",
    "def find_most_common(an_array):\n",
    "  most_common = Counter(an_array).most_common(2)\n",
    "  is_tie = most_common[0][1] == most_common[1][1]\n",
    "  if is_tie:\n",
    "    return 1\n",
    "  else:\n",
    "    return most_common[0][0]\n",
    "\n",
    "\n",
    "def find_least_common(an_array):\n",
    "  most_common = Counter(an_array).most_common(2)\n",
    "  is_tie = most_common[0][1] == most_common[1][1]\n",
    "  if is_tie:\n",
    "    return 0\n",
    "  else:\n",
    "    return most_common[1][0]\n",
    "\n",
    "def find_oxygen_rating(input):\n",
    "\n",
    "  diagnostic_report = np.array([charstring for charstring in input])\n",
    "  grid = np.array([[int(x) for x in charstring] for charstring in input])\n",
    "\n",
    "  grid_conds = (grid == -999)\n",
    "\n",
    "  cumulative_conds = np.repeat(True, grid.shape[0])\n",
    "  for col in range(grid.shape[1]):  \n",
    "    most_common = find_most_common(grid[cumulative_conds,col])\n",
    "    grid_conds[:,col] = grid[:,col] == most_common\n",
    "    cumulative_conds = np.all(grid_conds[:,:col+1], axis=1)\n",
    "    if cumulative_conds.sum() == 1:\n",
    "      oxygen_rating_binary = diagnostic_report[cumulative_conds][0]\n",
    "      oxygen_rating = binary_to_int(oxygen_rating_binary)\n",
    "      break\n",
    "  return oxygen_rating\n",
    "\n",
    "\n",
    "def find_c02_rating(input):\n",
    "  diagnostic_report = np.array([charstring for charstring in input])\n",
    "  grid = np.array([[int(x) for x in charstring] for charstring in input])\n",
    "\n",
    "  grid_conds = (grid == -999)\n",
    "\n",
    "  cumulative_conds = np.repeat(True, grid.shape[0])\n",
    "  for col in range(grid.shape[1]):  \n",
    "    least_common = find_least_common(grid[cumulative_conds,col])\n",
    "    grid_conds[:,col] = grid[:,col] == least_common\n",
    "    cumulative_conds = np.all(grid_conds[:,:col+1], axis=1)\n",
    "    if cumulative_conds.sum() == 1:\n",
    "      co2_rating_binary = diagnostic_report[cumulative_conds][0]\n",
    "      co2_rating = binary_to_int(co2_rating_binary)\n",
    "      break\n",
    "  return co2_rating\n",
    "\n",
    "oxygen_rating = find_oxygen_rating(input)\n",
    "c02_rating = find_c02_rating(input)\n",
    "life_support_rating = c02_rating * oxygen_rating\n",
    "\n",
    "print(\"\\n\\n-------------- Part 2 Answer --------------\\n\")\n",
    "print(\"What is the life support rating of the submarine?\")\n",
    "print(life_support_rating)"
   ]
  }
 ],
 "metadata": {
  "colab": {
   "authorship_tag": "ABX9TyNp2/hAd/KDsYGqJwzcmMHU",
   "name": "2021-12-03-advent-of-code.ipynb",
   "provenance": []
  },
  "kernelspec": {
   "display_name": "Python 3",
   "language": "python",
   "name": "python3"
  },
  "language_info": {
   "codemirror_mode": {
    "name": "ipython",
    "version": 3
   },
   "file_extension": ".py",
   "mimetype": "text/x-python",
   "name": "python",
   "nbconvert_exporter": "python",
   "pygments_lexer": "ipython3",
   "version": "3.6.3"
  }
 },
 "nbformat": 4,
 "nbformat_minor": 2
}
