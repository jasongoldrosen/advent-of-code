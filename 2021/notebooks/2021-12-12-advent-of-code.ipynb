{
 "cells": [
  {
   "cell_type": "code",
   "execution_count": 1,
   "metadata": {
    "executionInfo": {
     "elapsed": 471,
     "status": "ok",
     "timestamp": 1639410911864,
     "user": {
      "displayName": "Jason Goldrosen",
      "photoUrl": "https://lh3.googleusercontent.com/a-/AOh14GgDod0RfRpZL6hFberE-IYwW_VUQByReK5pGZwH-A=s64",
      "userId": "07466216754527706406"
     },
     "user_tz": 300
    },
    "id": "C-lA3j0DgP-C"
   },
   "outputs": [],
   "source": [
    "import numpy as np\n",
    "from collections import Counter"
   ]
  },
  {
   "cell_type": "markdown",
   "metadata": {
    "id": "3pEU3gTugVLV"
   },
   "source": [
    "https://adventofcode.com/2021/day/12\n",
    "\n",
    "\n",
    "\n"
   ]
  },
  {
   "cell_type": "code",
   "execution_count": 3,
   "metadata": {},
   "outputs": [
    {
     "data": {
      "text/plain": [
       "[['re', 'js'],\n",
       " ['qx', 'CG'],\n",
       " ['start', 'js'],\n",
       " ['start', 'bj'],\n",
       " ['qx', 'ak'],\n",
       " ['js', 'bj'],\n",
       " ['ak', 're'],\n",
       " ['CG', 'ak'],\n",
       " ['js', 'CG'],\n",
       " ['bj', 're'],\n",
       " ['ak', 'lg'],\n",
       " ['lg', 'CG'],\n",
       " ['qx', 're'],\n",
       " ['WP', 'ak'],\n",
       " ['WP', 'end'],\n",
       " ['re', 'lg'],\n",
       " ['end', 'ak'],\n",
       " ['WP', 're'],\n",
       " ['bj', 'CG'],\n",
       " ['qx', 'start'],\n",
       " ['bj', 'WP'],\n",
       " ['JG', 'lg'],\n",
       " ['end', 'lg'],\n",
       " ['lg', 'iw']]"
      ]
     },
     "execution_count": 3,
     "metadata": {},
     "output_type": "execute_result"
    }
   ],
   "source": [
    "aoc_day = '2021-12-12'\n",
    "test_input_file = f\"../test_inputs/{aoc_day}-input.txt\"\n",
    "input_file = f\"../inputs/{aoc_day}-input.txt\"\n",
    "try_test_input = False\n",
    "\n",
    "\n",
    "def preprocess_input(input:str) -> list:\n",
    "    input = [x.split(\"-\") for x in input.split(\"\\n\") if x != \"\"]\n",
    "    return input \n",
    "\n",
    "with open(test_input_file, 'r') as f:\n",
    "    test_input = preprocess_input(f.read())\n",
    "\n",
    "with open(input_file, 'r') as f:\n",
    "    input = preprocess_input(f.read())\n",
    "\n",
    "if try_test_input:\n",
    "    input = test_input.copy()\n",
    "\n",
    "input"
   ]
  },
  {
   "cell_type": "code",
   "execution_count": 5,
   "metadata": {
    "colab": {
     "base_uri": "https://localhost:8080/"
    },
    "executionInfo": {
     "elapsed": 475,
     "status": "ok",
     "timestamp": 1639410912699,
     "user": {
      "displayName": "Jason Goldrosen",
      "photoUrl": "https://lh3.googleusercontent.com/a-/AOh14GgDod0RfRpZL6hFberE-IYwW_VUQByReK5pGZwH-A=s64",
      "userId": "07466216754527706406"
     },
     "user_tz": 300
    },
    "id": "V4ES1gzMxvmy",
    "outputId": "a16276fd-d710-451a-b260-05fc21eaee4c"
   },
   "outputs": [
    {
     "name": "stdout",
     "output_type": "stream",
     "text": [
      "# of paths: 3230\n"
     ]
    }
   ],
   "source": [
    "def find_possible_paths(path, possible_paths):\n",
    "  position = path[-1]\n",
    "  off_limits_list = [x for x in path if x == x.lower()]\n",
    "  possible_next_steps = [x for x in possible_paths if position in x]\n",
    "  possible_next_steps = [[xx for xx in x if xx != position and xx not in off_limits_list] for x in possible_next_steps]\n",
    "  possible_next_steps = [x for x in possible_next_steps if x != []]\n",
    "  possible_paths = [path + x for x in possible_next_steps]\n",
    "  return possible_paths\n",
    "\n",
    "reached_end_list = []\n",
    "current_paths_list = [['start']]\n",
    "number_of_paths = 0\n",
    "\n",
    "while (number_of_paths == 0) or (number_of_paths != prev_number_of_paths):\n",
    "  next_paths_list = []\n",
    "  prev_number_of_paths = number_of_paths\n",
    "  for cp in current_paths_list:\n",
    "    next_paths = find_possible_paths(path=cp, possible_paths=input)\n",
    "    for path in next_paths:\n",
    "      if path[-1] == 'end':\n",
    "        reached_end_list += [path]\n",
    "    next_paths_list += [x for x in next_paths if x not in reached_end_list]\n",
    "  current_paths_list = next_paths_list\n",
    "  number_of_paths = len(reached_end_list)\n",
    "  # print(i)\n",
    "  # print(cp)\n",
    "  # print(next_paths)\n",
    "  # print(reached_end_list)\n",
    "print(f\"# of paths: {len(reached_end_list)}\")\n",
    "\n"
   ]
  },
  {
   "cell_type": "markdown",
   "metadata": {
    "id": "ayozXldf5h-Y"
   },
   "source": [
    "# Part Two"
   ]
  },
  {
   "cell_type": "code",
   "execution_count": 6,
   "metadata": {
    "colab": {
     "base_uri": "https://localhost:8080/"
    },
    "executionInfo": {
     "elapsed": 583593,
     "status": "ok",
     "timestamp": 1639411496290,
     "user": {
      "displayName": "Jason Goldrosen",
      "photoUrl": "https://lh3.googleusercontent.com/a-/AOh14GgDod0RfRpZL6hFberE-IYwW_VUQByReK5pGZwH-A=s64",
      "userId": "07466216754527706406"
     },
     "user_tz": 300
    },
    "id": "D4ztdSVCyMlC",
    "outputId": "fa1e2fe2-cc3e-493a-b6f1-d3e0d4b2634c"
   },
   "outputs": [
    {
     "name": "stdout",
     "output_type": "stream",
     "text": [
      "# of paths: 83475\n"
     ]
    }
   ],
   "source": [
    "def find_possible_paths_part_two(path, possible_paths):\n",
    "  position = path[-1]\n",
    "  at_least_1_visited_twice = any([Counter(path)[x]>=2 for x in path if x == x.lower()])\n",
    "  off_limits_list = [x for x in path if x == x.lower()]\n",
    "  always_skip_list = ['start']\n",
    "  possible_next_steps = [x for x in possible_paths if position in x]\n",
    "  if at_least_1_visited_twice:\n",
    "    # print(\"Turn off repeat visits\")\n",
    "    possible_next_steps = [[xx for xx in x if xx != position and xx not in off_limits_list] for x in possible_next_steps]\n",
    "  else:\n",
    "    # print(\"Skip\")\n",
    "    possible_next_steps = [[xx for xx in x if xx != position and xx not in always_skip_list] for x in possible_next_steps]\n",
    "  possible_next_steps = [x for x in possible_next_steps if x != []]\n",
    "  possible_paths = [path + x for x in possible_next_steps]\n",
    "  return possible_paths\n",
    "\n",
    "reached_end_list = []\n",
    "current_paths_list = [['start']]\n",
    "number_of_paths = 0\n",
    "\n",
    "while (number_of_paths == 0) or (number_of_paths != prev_number_of_paths):\n",
    "  next_paths_list = []\n",
    "  prev_number_of_paths = number_of_paths\n",
    "  for cp in current_paths_list:\n",
    "    next_paths = find_possible_paths_part_two(path=cp, possible_paths=input)\n",
    "    for path in next_paths:\n",
    "      if path[-1] == 'end':\n",
    "        reached_end_list += [path]\n",
    "    next_paths_list += [x for x in next_paths if x not in reached_end_list]\n",
    "  current_paths_list = next_paths_list\n",
    "  number_of_paths = len(reached_end_list)\n",
    "  # print(i)\n",
    "  # print(cp)\n",
    "  # print(next_paths)\n",
    "  # print(reached_end_list)\n",
    "print(f\"# of paths: {len(reached_end_list)}\")\n"
   ]
  },
  {
   "cell_type": "code",
   "execution_count": 7,
   "metadata": {
    "colab": {
     "base_uri": "https://localhost:8080/"
    },
    "executionInfo": {
     "elapsed": 10,
     "status": "ok",
     "timestamp": 1639411496291,
     "user": {
      "displayName": "Jason Goldrosen",
      "photoUrl": "https://lh3.googleusercontent.com/a-/AOh14GgDod0RfRpZL6hFberE-IYwW_VUQByReK5pGZwH-A=s64",
      "userId": "07466216754527706406"
     },
     "user_tz": 300
    },
    "id": "djpvShZk50J6",
    "outputId": "bd52ec38-3a07-492b-975b-cfc2324f32ec"
   },
   "outputs": [
    {
     "name": "stdout",
     "output_type": "stream",
     "text": [
      "83475\n"
     ]
    }
   ],
   "source": [
    "print(len(reached_end_list))\n"
   ]
  }
 ],
 "metadata": {
  "colab": {
   "authorship_tag": "ABX9TyP0KowUHkgyKawKP7gKj9kI",
   "name": "2021-12-12-advent-of-code.ipynb",
   "provenance": []
  },
  "kernelspec": {
   "display_name": "Python 3",
   "language": "python",
   "name": "python3"
  },
  "language_info": {
   "codemirror_mode": {
    "name": "ipython",
    "version": 3
   },
   "file_extension": ".py",
   "mimetype": "text/x-python",
   "name": "python",
   "nbconvert_exporter": "python",
   "pygments_lexer": "ipython3",
   "version": "3.6.3"
  }
 },
 "nbformat": 4,
 "nbformat_minor": 2
}
