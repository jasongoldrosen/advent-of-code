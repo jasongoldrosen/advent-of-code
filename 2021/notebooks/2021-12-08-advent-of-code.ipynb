{
 "cells": [
  {
   "cell_type": "code",
   "execution_count": 9,
   "metadata": {
    "executionInfo": {
     "elapsed": 145,
     "status": "ok",
     "timestamp": 1639004108460,
     "user": {
      "displayName": "Jason Goldrosen",
      "photoUrl": "https://lh3.googleusercontent.com/a-/AOh14GgDod0RfRpZL6hFberE-IYwW_VUQByReK5pGZwH-A=s64",
      "userId": "07466216754527706406"
     },
     "user_tz": 300
    },
    "id": "TIwXTKUVvq2z"
   },
   "outputs": [],
   "source": [
    "import numpy as np\n",
    "from collections import Counter \n"
   ]
  },
  {
   "cell_type": "markdown",
   "metadata": {
    "id": "S_IJZXSnQj_O"
   },
   "source": [
    "https://adventofcode.com/2021/day/8"
   ]
  },
  {
   "cell_type": "code",
   "execution_count": 53,
   "metadata": {},
   "outputs": [
    {
     "data": {
      "text/plain": [
       "[['be cfbegad cbdgef fgaecd cgeb fdcge agebfd fecdb fabcd edb',\n",
       "  'fdgacbe cefdb cefbgd gcbe'],\n",
       " ['edbfga begcd cbg gc gcadebf fbgde acbgfd abcde gfcbed gfec',\n",
       "  'fcgedb cgb dgebacf gc'],\n",
       " ['fgaebd cg bdaec gdafb agbcfd gdcbef bgcad gfac gcb cdgabef',\n",
       "  'cg cg fdcagb cbg'],\n",
       " ['fbegcd cbd adcefb dageb afcb bc aefdc ecdab fgdeca fcdbega',\n",
       "  'efabcd cedba gadfec cb'],\n",
       " ['aecbfdg fbg gf bafeg dbefa fcge gcbea fcaegb dgceab fcbdga',\n",
       "  'gecf egdcabf bgf bfgea'],\n",
       " ['fgeab ca afcebg bdacfeg cfaedg gcfdb baec bfadeg bafgc acf',\n",
       "  'gebdcfa ecba ca fadegcb'],\n",
       " ['dbcfg fgd bdegcaf fgec aegbdf ecdfab fbedc dacgb gdcebf gf',\n",
       "  'cefg dcbef fcge gbcadfe'],\n",
       " ['bdfegc cbegaf gecbf dfcage bdacg ed bedf ced adcbefg gebcd',\n",
       "  'ed bcgafe cdgba cbgef'],\n",
       " ['egadfb cdbfeg cegd fecab cgb gbdefca cg fgcdab egfdb bfceg',\n",
       "  'gbdfcae bgc cg cgb'],\n",
       " ['gcafb gcf dcaebfg ecagb gf abcdeg gaef cafbge fdbac fegbdc',\n",
       "  'fgae cfgab fg bagce']]"
      ]
     },
     "execution_count": 53,
     "metadata": {},
     "output_type": "execute_result"
    }
   ],
   "source": [
    "aoc_day = '2021-12-08'\n",
    "test_input_file = f\"../test_inputs/{aoc_day}-input.txt\"\n",
    "input_file = f\"../inputs/{aoc_day}-input.txt\"\n",
    "try_test_input = True\n",
    "\n",
    "def preprocess_input_pt1(input:str) -> list:\n",
    "    input_list = [x.split(\" | \") for x in input.split(\"\\n\") if x != '']\n",
    "    return input_list \n",
    "\n",
    "def preprocess_input_pt2(input:str) -> list:\n",
    "    input_list = [x for x in input.split(\"\\n\") if x != \"\"]\n",
    "    return input_list \n",
    "\n",
    "with open(test_input_file, 'r') as f:\n",
    "    test_input = preprocess_input_pt1(f.read())\n",
    "    test_input_pt2 = preprocess_input_pt2(f.read())\n",
    "\n",
    "with open(input_file, 'r') as f:\n",
    "    input = preprocess_input_pt1(f.read())\n",
    "    input_pt2 = preprocess_input_pt2(f.read())\n",
    "\n",
    "if try_test_input:\n",
    "    input = test_input.copy()\n",
    "    input_pt2 = test_input_pt2.copy()\n",
    "\n",
    "input"
   ]
  },
  {
   "cell_type": "code",
   "execution_count": 47,
   "metadata": {
    "executionInfo": {
     "elapsed": 11,
     "status": "ok",
     "timestamp": 1639004108842,
     "user": {
      "displayName": "Jason Goldrosen",
      "photoUrl": "https://lh3.googleusercontent.com/a-/AOh14GgDod0RfRpZL6hFberE-IYwW_VUQByReK5pGZwH-A=s64",
      "userId": "07466216754527706406"
     },
     "user_tz": 300
    },
    "id": "LWi3muvKDRT2"
   },
   "outputs": [],
   "source": [
    "#Part One\n",
    "input_values_list = [x[0].split(\" \") for x in input]\n",
    "output_values_list = [x[1].split(\" \") for x in input]\n"
   ]
  },
  {
   "cell_type": "code",
   "execution_count": 48,
   "metadata": {
    "colab": {
     "base_uri": "https://localhost:8080/"
    },
    "executionInfo": {
     "elapsed": 11,
     "status": "ok",
     "timestamp": 1639004108843,
     "user": {
      "displayName": "Jason Goldrosen",
      "photoUrl": "https://lh3.googleusercontent.com/a-/AOh14GgDod0RfRpZL6hFberE-IYwW_VUQByReK5pGZwH-A=s64",
      "userId": "07466216754527706406"
     },
     "user_tz": 300
    },
    "id": "OhZx5UkRDYXy",
    "outputId": "66f8d1dd-1164-433c-fef2-1f077a3271fa"
   },
   "outputs": [
    {
     "name": "stdout",
     "output_type": "stream",
     "text": [
      "26\n"
     ]
    }
   ],
   "source": [
    "total_unique = 0\n",
    "unique_lenghts = [2, 3, 4, 7]\n",
    "for line in output_values_list:\n",
    "  for x in line:\n",
    "    if len(x) in unique_lenghts:\n",
    "      total_unique += 1\n",
    "\n",
    "print(total_unique)"
   ]
  },
  {
   "cell_type": "code",
   "execution_count": 49,
   "metadata": {
    "executionInfo": {
     "elapsed": 6,
     "status": "ok",
     "timestamp": 1639004108843,
     "user": {
      "displayName": "Jason Goldrosen",
      "photoUrl": "https://lh3.googleusercontent.com/a-/AOh14GgDod0RfRpZL6hFberE-IYwW_VUQByReK5pGZwH-A=s64",
      "userId": "07466216754527706406"
     },
     "user_tz": 300
    },
    "id": "-CqsSg50G6WR"
   },
   "outputs": [],
   "source": [
    "segments = np.array(['a', 'b', 'c', 'd', 'e', 'f', 'g'])\n",
    "\n",
    "digit_matrix = np.array((\n",
    "    (1,1,1,0,1,1,1),\n",
    "    (0,0,1,0,0,1,0),\n",
    "    (1,0,1,1,1,0,1),\n",
    "    (1,0,1,1,0,1,1),\n",
    "    (0,1,1,1,0,1,0),\n",
    "    (1,1,0,1,0,1,1),\n",
    "    (1,1,0,1,1,1,1),\n",
    "    (1,0,1,0,0,1,0),\n",
    "    (1,1,1,1,1,1,1),\n",
    "    (1,1,1,1,0,1,1)\n",
    ")\n",
    ")\n",
    "\n",
    "segments_to_digits = {}\n",
    "\n",
    "for row in range(digit_matrix.shape[0]):\n",
    "  segment = ''.join(segments[digit_matrix[row,:] == 1])\n",
    "  segments_to_digits[segment] = row\n"
   ]
  },
  {
   "cell_type": "code",
   "execution_count": 50,
   "metadata": {
    "executionInfo": {
     "elapsed": 151,
     "status": "ok",
     "timestamp": 1639004108989,
     "user": {
      "displayName": "Jason Goldrosen",
      "photoUrl": "https://lh3.googleusercontent.com/a-/AOh14GgDod0RfRpZL6hFberE-IYwW_VUQByReK5pGZwH-A=s64",
      "userId": "07466216754527706406"
     },
     "user_tz": 300
    },
    "id": "KqZBxxraMAeu"
   },
   "outputs": [],
   "source": [
    "def identify_segments(signal_patterns):\n",
    "  letter_count = Counter(\"\".join(signal_patterns))\n",
    "\n",
    "  signal_1 = [x for x in signal_patterns if len(x) == 2][0]\n",
    "  signal_4 = [x for x in signal_patterns if len(x) == 4][0]\n",
    "  signal_7 = [x for x in signal_patterns if len(x) == 3][0]\n",
    "  signal_8 = [x for x in signal_patterns if len(x) == 7][0]\n",
    "\n",
    "\n",
    "  standard_to_scrambled = {}\n",
    "  standard_to_scrambled['a'] = [x for x in signal_7 if x not in signal_1][0]\n",
    "\n",
    "  for k,v in letter_count.items():\n",
    "    if v == 6:\n",
    "      standard_to_scrambled['b'] = k\n",
    "    elif (v == 8) and (k in signal_1):\n",
    "      standard_to_scrambled['c'] = k\n",
    "    elif (v == 7) and (k in signal_4):\n",
    "      standard_to_scrambled['d'] = k\n",
    "    elif v == 4:\n",
    "      standard_to_scrambled['e'] = k\n",
    "    if v == 9:\n",
    "      standard_to_scrambled['f'] = k\n",
    "    elif (v == 7) and (k not in signal_4):\n",
    "      standard_to_scrambled['g'] = k\n",
    "  return standard_to_scrambled\n",
    "\n",
    "\n",
    "def translate_pattern(ex_pattern, scrambled_to_standard):\n",
    "  # print(ex_pattern)\n",
    "  ex_pattern = [x for x in ex_pattern]\n",
    "  for i in range(len(ex_pattern)):\n",
    "    ex_pattern[i] = scrambled_to_standard[ex_pattern[i]]\n",
    "  ex_pattern.sort()\n",
    "  ex_pattern = ''.join(ex_pattern)\n",
    "  # print(ex_pattern)\n",
    "  return ex_pattern\n"
   ]
  },
  {
   "cell_type": "code",
   "execution_count": 51,
   "metadata": {
    "colab": {
     "base_uri": "https://localhost:8080/"
    },
    "executionInfo": {
     "elapsed": 8,
     "status": "ok",
     "timestamp": 1639004108990,
     "user": {
      "displayName": "Jason Goldrosen",
      "photoUrl": "https://lh3.googleusercontent.com/a-/AOh14GgDod0RfRpZL6hFberE-IYwW_VUQByReK5pGZwH-A=s64",
      "userId": "07466216754527706406"
     },
     "user_tz": 300
    },
    "id": "Vax0fLZP1KZx",
    "outputId": "26238bf5-8df0-4e7e-a595-013a7f57cdee"
   },
   "outputs": [
    {
     "name": "stdout",
     "output_type": "stream",
     "text": [
      "0\n"
     ]
    }
   ],
   "source": [
    "## Part 2\n",
    "\n",
    "input_list = input_pt2\n",
    "output_list = []\n",
    "for row in input_list:\n",
    "  signal_patterns = row.split(\" | \")[0].split(\" \")\n",
    "  output_values = row.split(\" | \")[1].split(\" \")\n",
    "\n",
    "  signal_patterns, output_values\n",
    "\n",
    "  # Calc translations\n",
    "  standard_to_scrambled = identify_segments(signal_patterns)\n",
    "\n",
    "  # Reverse dictionary\n",
    "  scrambled_to_standard = {v:k for k,v in standard_to_scrambled.items()}\n",
    "\n",
    "  output_translated = [translate_pattern(x, scrambled_to_standard) for x in output_values]\n",
    "  output_quantified = [segments_to_digits[x] for x in output_translated]\n",
    "  output = int(''.join([str(x) for x in output_quantified]))\n",
    "  output_list += [output]\n",
    "\n",
    "print(sum(output_list))"
   ]
  }
 ],
 "metadata": {
  "colab": {
   "authorship_tag": "ABX9TyNs4bAttAMknPxvweEtBDzs",
   "collapsed_sections": [],
   "name": "2021-12-08-advent-of-code.ipynb",
   "provenance": []
  },
  "kernelspec": {
   "display_name": "Python 3",
   "language": "python",
   "name": "python3"
  },
  "language_info": {
   "codemirror_mode": {
    "name": "ipython",
    "version": 3
   },
   "file_extension": ".py",
   "mimetype": "text/x-python",
   "name": "python",
   "nbconvert_exporter": "python",
   "pygments_lexer": "ipython3",
   "version": "3.6.3"
  }
 },
 "nbformat": 4,
 "nbformat_minor": 2
}
