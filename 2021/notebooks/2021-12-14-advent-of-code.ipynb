{
 "cells": [
  {
   "cell_type": "code",
   "execution_count": 11,
   "metadata": {
    "executionInfo": {
     "elapsed": 136,
     "status": "ok",
     "timestamp": 1639498429643,
     "user": {
      "displayName": "Jason Goldrosen",
      "photoUrl": "https://lh3.googleusercontent.com/a-/AOh14GgDod0RfRpZL6hFberE-IYwW_VUQByReK5pGZwH-A=s64",
      "userId": "07466216754527706406"
     },
     "user_tz": 300
    },
    "id": "B6Zd0zNXwjL6"
   },
   "outputs": [],
   "source": [
    "import numpy as np\n",
    "from collections import Counter"
   ]
  },
  {
   "cell_type": "markdown",
   "metadata": {
    "id": "h4WYPAYNQUv4"
   },
   "source": [
    "https://adventofcode.com/2021/day/14"
   ]
  },
  {
   "cell_type": "code",
   "execution_count": 15,
   "metadata": {},
   "outputs": [
    {
     "data": {
      "text/plain": [
       "[['FO', 'K'],\n",
       " ['FF', 'H'],\n",
       " ['SN', 'C'],\n",
       " ['CC', 'S'],\n",
       " ['BB', 'V'],\n",
       " ['FK', 'H'],\n",
       " ['PC', 'P'],\n",
       " ['PH', 'N'],\n",
       " ['OB', 'O'],\n",
       " ['PV', 'C']]"
      ]
     },
     "execution_count": 15,
     "metadata": {},
     "output_type": "execute_result"
    }
   ],
   "source": [
    "aoc_day = '2021-12-14'\n",
    "test_input_file = f\"../test_inputs/{aoc_day}-input.txt\"\n",
    "input_file = f\"../inputs/{aoc_day}-input.txt\"\n",
    "try_test_input = False\n",
    "\n",
    "\n",
    "def preprocess_input(input:str) -> list:\n",
    "    input = [x for x in input.split(\"\\n\") if x != '']\n",
    "    input = [x.split(\" -> \") for x in input]\n",
    "    return input \n",
    "\n",
    "with open(test_input_file, 'r') as f:\n",
    "    test_input = preprocess_input(f.read())\n",
    "\n",
    "with open(input_file, 'r') as f:\n",
    "    input = preprocess_input(f.read())\n",
    "\n",
    "if try_test_input:\n",
    "    input = test_input.copy()\n",
    "\n",
    "input[:10]"
   ]
  },
  {
   "cell_type": "code",
   "execution_count": 16,
   "metadata": {
    "executionInfo": {
     "elapsed": 208,
     "status": "ok",
     "timestamp": 1639499084098,
     "user": {
      "displayName": "Jason Goldrosen",
      "photoUrl": "https://lh3.googleusercontent.com/a-/AOh14GgDod0RfRpZL6hFberE-IYwW_VUQByReK5pGZwH-A=s64",
      "userId": "07466216754527706406"
     },
     "user_tz": 300
    },
    "id": "UN0zGYgwQmS-"
   },
   "outputs": [],
   "source": [
    "test_template = \"NNCB\"\n",
    "template = \"FSHBKOOPCFSFKONFNFBB\"\n",
    "\n",
    "# # template = test_template\n",
    "# input = [x for x in input.split(\"\\n\") if x != '']\n",
    "# input = [x.split(\" -> \") for x in input]\n",
    "\n",
    "pair_insertion_dict = {}\n",
    "for x in input:\n",
    "  pair_insertion_dict[x[0]] = x[1]\n",
    "pair_insertion_dict \n",
    "\n",
    "pairs_list = [k for k in pair_insertion_dict.keys()]\n",
    "pairs_list.sort()\n",
    "pairs_array = np.array(pairs_list)\n",
    "pairs_array\n",
    "\n",
    "unique_chars = []\n",
    "for pp in pairs_array:\n",
    "  if pp[0] not in unique_chars:\n",
    "    unique_chars += [pp[0]]\n",
    "  if pp[1] not in unique_chars:\n",
    "    unique_chars += [pp[1]]\n"
   ]
  },
  {
   "cell_type": "code",
   "execution_count": 17,
   "metadata": {
    "executionInfo": {
     "elapsed": 180,
     "status": "ok",
     "timestamp": 1639499085617,
     "user": {
      "displayName": "Jason Goldrosen",
      "photoUrl": "https://lh3.googleusercontent.com/a-/AOh14GgDod0RfRpZL6hFberE-IYwW_VUQByReK5pGZwH-A=s64",
      "userId": "07466216754527706406"
     },
     "user_tz": 300
    },
    "id": "xPlTclM6QqX_"
   },
   "outputs": [],
   "source": [
    "def split_to_pairs(word):\n",
    "  pair_list = []\n",
    "  for x in range(len(word)-1):\n",
    "    pair_list += [word[x:x+2]]\n",
    "  return pair_list\n",
    "\n",
    "def count_pairs(pairs_list,pairs_array):\n",
    "  pairs_array_cnt = np.zeros(pairs_array.shape)\n",
    "  row=0\n",
    "  for p in pairs_array:\n",
    "    pairs_array_cnt[row] = sum([x == p for x in pairs_list])\n",
    "    row += 1\n",
    "  return pairs_array_cnt\n",
    "\n",
    "def create_transition_matrix(pairs_array,pair_insertion_dict):\n",
    "  # For every existing pair, insert character in middle. This creates two new \n",
    "  # pairs created and removes another create a transistion matrix\n",
    "  array_length = len(pairs_array)\n",
    "  transition_matrix = np.zeros((array_length,array_length))\n",
    "  for k,v in pair_insertion_dict.items():\n",
    "    orig_pair_index = np.where(pairs_array == k)[0][0]\n",
    "    new_pair0 = k[0] + v\n",
    "    new_pair1 = v + k[1]\n",
    "    new_pair_index0 = np.where(pairs_array == new_pair0)[0][0]\n",
    "    new_pair_index1 = np.where(pairs_array == new_pair1)[0][0]\n",
    "\n",
    "    transition_matrix[orig_pair_index,orig_pair_index] = 0\n",
    "    transition_matrix[orig_pair_index,new_pair_index0] = 1\n",
    "    transition_matrix[orig_pair_index,new_pair_index1] = 1\n",
    "  return transition_matrix\n"
   ]
  },
  {
   "cell_type": "code",
   "execution_count": 18,
   "metadata": {
    "colab": {
     "base_uri": "https://localhost:8080/"
    },
    "executionInfo": {
     "elapsed": 164,
     "status": "ok",
     "timestamp": 1639499322635,
     "user": {
      "displayName": "Jason Goldrosen",
      "photoUrl": "https://lh3.googleusercontent.com/a-/AOh14GgDod0RfRpZL6hFberE-IYwW_VUQByReK5pGZwH-A=s64",
      "userId": "07466216754527706406"
     },
     "user_tz": 300
    },
    "id": "cDrclxlhS6vB",
    "outputId": "64cfc8a2-d717-42f0-a251-6ed9a05cee16"
   },
   "outputs": [
    {
     "name": "stdout",
     "output_type": "stream",
     "text": [
      "After step 1: Length = 39\n",
      "After step 2: Length = 77\n",
      "After step 3: Length = 153\n",
      "After step 4: Length = 305\n",
      "After step 5: Length = 609\n",
      "After step 6: Length = 1217\n",
      "After step 7: Length = 2433\n",
      "After step 8: Length = 4865\n",
      "After step 9: Length = 9729\n",
      "After step 10: Length = 19457\n",
      "After step 11: Length = 38913\n",
      "After step 12: Length = 77825\n",
      "After step 13: Length = 155649\n",
      "After step 14: Length = 311297\n",
      "After step 15: Length = 622593\n",
      "After step 16: Length = 1245185\n",
      "After step 17: Length = 2490369\n",
      "After step 18: Length = 4980737\n",
      "After step 19: Length = 9961473\n",
      "After step 20: Length = 19922945\n",
      "After step 21: Length = 39845889\n",
      "After step 22: Length = 79691777\n",
      "After step 23: Length = 159383553\n",
      "After step 24: Length = 318767105\n",
      "After step 25: Length = 637534209\n",
      "After step 26: Length = 1275068417\n",
      "After step 27: Length = 2550136833\n",
      "After step 28: Length = 5100273665\n",
      "After step 29: Length = 10200547329\n",
      "After step 30: Length = 20401094657\n",
      "After step 31: Length = 40802189313\n",
      "After step 32: Length = 81604378625\n",
      "After step 33: Length = 163208757249\n",
      "After step 34: Length = 326417514497\n",
      "After step 35: Length = 652835028993\n",
      "After step 36: Length = 1305670057985\n",
      "After step 37: Length = 2611340115969\n",
      "After step 38: Length = 5222680231937\n",
      "After step 39: Length = 10445360463873\n",
      "After step 40: Length = 20890720927745\n",
      "Max: 4580129184584\n",
      "Min: 469913582128\n",
      "Diff: 4110215602456\n",
      "Occurences: [('B', 469913582128.0), ('C', 4580129184584.0), ('F', 2327036746225.0), ('H', 2324646240751.0), ('K', 2083647690981.0), ('N', 1067007877945.0), ('O', 1262030235815.0), ('P', 2620681635877.0), ('S', 2839199115675.0), ('V', 1316428617764.0)]\n"
     ]
    }
   ],
   "source": [
    "pairs_list = split_to_pairs(template)\n",
    "pairs_array_cnt = count_pairs(pairs_list,pairs_array)\n",
    "transition_matrix = create_transition_matrix(pairs_array,pair_insertion_dict)\n",
    "for i in range(40):\n",
    "  pairs_array_cnt = np.dot(pairs_array_cnt, transition_matrix)\n",
    "  print(f\"After step {i+1}: Length = {int(pairs_array_cnt.sum() + 1)}\")\n",
    "\n",
    "# Count characters\n",
    "unique_chars_cnt = []\n",
    "for char in unique_chars:\n",
    "  # To avoid double counting look at 2nd character\n",
    "  add_value = pairs_array_cnt[[char in pp[1] for pp in pairs_array]].sum()\n",
    "  if char == template[0]:\n",
    "    # First character will be missed\n",
    "    add_value += 1\n",
    "  unique_chars_cnt += [add_value]\n",
    "\n",
    "min_cnt = min(unique_chars_cnt)\n",
    "max_cnt = max(unique_chars_cnt)\n",
    "diff = max_cnt - min_cnt\n",
    "print(f\"Max: {int(max_cnt)}\")\n",
    "print(f\"Min: {int(min_cnt)}\")\n",
    "print(f\"Diff: {int(diff)}\")\n",
    "print(f\"Occurences: {[(k,v) for k,v in zip(unique_chars,unique_chars_cnt)]}\")"
   ]
  }
 ],
 "metadata": {
  "colab": {
   "authorship_tag": "ABX9TyObFPgP5sEBEFGaQuqJuKle",
   "name": "2021-12-14-advent-of-code.ipynb",
   "provenance": []
  },
  "kernelspec": {
   "display_name": "Python 3",
   "language": "python",
   "name": "python3"
  },
  "language_info": {
   "codemirror_mode": {
    "name": "ipython",
    "version": 3
   },
   "file_extension": ".py",
   "mimetype": "text/x-python",
   "name": "python",
   "nbconvert_exporter": "python",
   "pygments_lexer": "ipython3",
   "version": "3.6.3"
  }
 },
 "nbformat": 4,
 "nbformat_minor": 2
}
