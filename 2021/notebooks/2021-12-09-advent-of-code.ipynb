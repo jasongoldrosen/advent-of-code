{
 "cells": [
  {
   "cell_type": "code",
   "execution_count": 2,
   "metadata": {
    "executionInfo": {
     "elapsed": 148,
     "status": "ok",
     "timestamp": 1639072644714,
     "user": {
      "displayName": "Jason Goldrosen",
      "photoUrl": "https://lh3.googleusercontent.com/a-/AOh14GgDod0RfRpZL6hFberE-IYwW_VUQByReK5pGZwH-A=s64",
      "userId": "07466216754527706406"
     },
     "user_tz": 300
    },
    "id": "7hSZmZSHC-Sr"
   },
   "outputs": [],
   "source": [
    "import numpy as np"
   ]
  },
  {
   "cell_type": "markdown",
   "metadata": {
    "id": "LRmfQaR_DEgw"
   },
   "source": [
    "https://adventofcode.com/2021/day/9"
   ]
  },
  {
   "cell_type": "code",
   "execution_count": 5,
   "metadata": {},
   "outputs": [
    {
     "data": {
      "text/plain": [
       "matrix([[4, 2, 1, ..., 3, 9, 9],\n",
       "        [4, 3, 2, ..., 6, 7, 8],\n",
       "        [5, 7, 3, ..., 5, 6, 7],\n",
       "        ...,\n",
       "        [0, 2, 4, ..., 2, 1, 9],\n",
       "        [1, 2, 3, ..., 3, 2, 6],\n",
       "        [4, 3, 4, ..., 4, 3, 5]])"
      ]
     },
     "execution_count": 5,
     "metadata": {},
     "output_type": "execute_result"
    }
   ],
   "source": [
    "aoc_day = '2021-12-09'\n",
    "test_input_file = f\"../test_inputs/{aoc_day}-input.txt\"\n",
    "input_file = f\"../inputs/{aoc_day}-input.txt\"\n",
    "try_test_input = False\n",
    "\n",
    "\n",
    "def preprocess_input(input:str) -> list:\n",
    "    input = [x for x in input.split(\"\\n\") if x != \"\"]\n",
    "    input = [[int(char) for char in x] for x in input]\n",
    "    input = np.matrix(input)\n",
    "    return input \n",
    "\n",
    "with open(test_input_file, 'r') as f:\n",
    "    test_input = preprocess_input(f.read())\n",
    "\n",
    "with open(input_file, 'r') as f:\n",
    "    input = preprocess_input(f.read())\n",
    "\n",
    "if try_test_input:\n",
    "    input = test_input.copy()\n",
    "\n",
    "input"
   ]
  },
  {
   "cell_type": "code",
   "execution_count": 7,
   "metadata": {
    "colab": {
     "base_uri": "https://localhost:8080/"
    },
    "executionInfo": {
     "elapsed": 10,
     "status": "ok",
     "timestamp": 1639072645003,
     "user": {
      "displayName": "Jason Goldrosen",
      "photoUrl": "https://lh3.googleusercontent.com/a-/AOh14GgDod0RfRpZL6hFberE-IYwW_VUQByReK5pGZwH-A=s64",
      "userId": "07466216754527706406"
     },
     "user_tz": 300
    },
    "id": "67f8mBpODr0R",
    "outputId": "2c7bd47c-92d5-4267-af77-14c813f1b4f3"
   },
   "outputs": [
    {
     "name": "stdout",
     "output_type": "stream",
     "text": [
      "[[False False False ... False False False]\n",
      " [False False False ... False False False]\n",
      " [False False False ... False False False]\n",
      " ...\n",
      " [ True False False ... False  True False]\n",
      " [False False False ... False False False]\n",
      " [False False False ... False False False]]\n",
      "[[0 0 0 0 1 3 1 3 1 0 2 2 2 0 1 1 0 0 2 1 0 2 0 0 0 1 3 0 6 2 2 1 1 0 2 1\n",
      "  1 0 3 1 0 3 0 1 1 0 0 0 4 1 5 0 0 3 2 0 0 2 0 3 1 0 2 0 1 2 0 0 0 2 2 1\n",
      "  1 5 2 1 0 2 0 1 1 4 1 2 2 1 0 2 1 1 1 0 0 0 2 0 0 2 1 0 0 1 0 4 0 0 0 0\n",
      "  1 5 1 4 2 2 0 4 2 2 0 1 0 1 0 0 0 1 1 0 3 3 1 1 3 3 0 1 0 2 1 1 0 0 3 0\n",
      "  0 0 1 0 3 2 1 0 0 1 1 0 0 0 0 0 2 0 0 1 0 0 3 1 0 0 1 3 0 1 0 0 0 0 1 0\n",
      "  2 2 1 1 4 0 0 3 1 1 6 5 1 0 1 0 0 0]]\n",
      "417\n",
      "[(0, 3), (0, 43), (0, 69), (0, 80), (0, 95), (1, 33), (1, 62), (2, 22), (2, 50), (4, 11), (4, 88), (5, 67), (6, 20), (6, 73), (7, 28), (7, 40), (7, 95), (8, 60), (10, 17), (10, 33), (10, 54), (10, 66), (10, 83), (11, 0), (11, 73), (11, 99), (12, 79), (13, 39), (13, 44), (14, 8), (15, 17), (15, 49), (16, 66), (16, 92), (16, 99), (17, 3), (17, 32), (17, 85), (18, 43), (18, 59), (20, 22), (20, 96), (21, 11), (21, 73), (21, 80), (21, 85), (24, 5), (24, 53), (24, 61), (24, 67), (24, 88), (25, 93), (26, 40), (26, 78), (27, 99), (28, 31), (28, 84), (29, 2), (29, 47), (29, 72), (30, 23), (30, 61), (31, 91), (32, 14), (33, 7), (33, 77), (34, 38), (34, 42), (34, 55), (34, 71), (34, 98), (35, 84), (36, 1), (36, 48), (37, 20), (37, 91), (38, 61), (38, 74), (39, 15), (39, 37), (39, 67), (39, 95), (41, 26), (41, 45), (41, 81), (41, 87), (41, 99), (42, 9), (42, 92), (43, 21), (44, 38), (45, 4), (45, 31), (45, 60), (46, 14), (46, 76), (47, 67), (47, 95), (48, 51), (49, 26), (49, 87), (50, 13), (51, 44), (52, 6), (52, 33), (53, 1), (53, 4), (53, 65), (53, 77), (54, 37), (54, 51), (55, 47), (56, 20), (56, 82), (56, 97), (57, 41), (57, 73), (58, 13), (58, 60), (59, 2), (59, 89), (60, 44), (61, 29), (61, 65), (62, 37), (62, 76), (63, 7), (64, 0), (64, 16), (64, 80), (64, 99), (65, 23), (65, 72), (66, 87), (67, 51), (67, 93), (68, 11), (69, 27), (69, 35), (70, 44), (70, 60), (71, 66), (72, 0), (72, 6), (72, 21), (72, 82), (73, 90), (73, 97), (75, 37), (75, 53), (76, 73), (77, 11), (78, 17), (78, 46), (78, 78), (80, 1), (80, 58), (80, 85), (81, 11), (81, 29), (81, 50), (83, 38), (83, 72), (84, 6), (84, 43), (84, 95), (86, 21), (87, 54), (87, 82), (88, 63), (89, 13), (89, 90), (90, 26), (90, 33), (90, 43), (91, 3), (91, 96), (92, 19), (92, 26), (92, 67), (92, 78), (94, 53), (95, 48), (96, 11), (96, 40), (96, 59), (97, 0), (97, 27), (97, 98), (98, 35), (98, 46), (98, 63), (98, 85), (99, 20), (99, 42), (99, 50), (99, 67), (99, 72)]\n"
     ]
    }
   ],
   "source": [
    "def is_low_point(x, neighbors):\n",
    "  return x < min(neighbors)\n",
    "\n",
    "x_coord = 0\n",
    "y_coord = 3\n",
    "\n",
    "\n",
    "def get_neighbors(x_coord,y_coord, grid_shape):\n",
    "  neighbors = []\n",
    "  for i in [x_coord-1,x_coord+1]:\n",
    "    if i >= 0 and i < grid_shape[0]:\n",
    "      neighbors += [(i, y_coord)]\n",
    "\n",
    "  for i in [y_coord-1,y_coord+1]:\n",
    "    if i >= 0 and i < grid_shape[1]:\n",
    "      neighbors += [(x_coord, i)]\n",
    "  return neighbors\n",
    "\n",
    "def is_low_point(x_coord,y_coord, grid):\n",
    "  neighbors = get_neighbors(x_coord,y_coord,grid.shape)\n",
    "  neighbor_values = [input[coords] for coords in neighbors]\n",
    "  is_low = input[x_coord,y_coord] < min(neighbor_values)\n",
    "  return is_low\n",
    "\n",
    "is_low_grid = input == -99999 # Hacky way to get grid of conds\n",
    "low_points_list = []\n",
    "for row in range(input.shape[0]):\n",
    "  for col in range(input.shape[1]):\n",
    "    neighbors = get_neighbors(row,col,input.shape)\n",
    "    neighbor_values = [input[coords] for coords in neighbors]\n",
    "    is_low = input[row,col] < min(neighbor_values)\n",
    "    is_low_grid[row,col] = is_low\n",
    "    if is_low:\n",
    "      low_points_list += [(row,col)]\n",
    "\n",
    "risk_level = input[is_low_grid].sum() + is_low_grid.sum()\n",
    "print(is_low_grid)\n",
    "print(input[is_low_grid])\n",
    "print(risk_level)\n",
    "print(low_points_list)"
   ]
  },
  {
   "cell_type": "code",
   "execution_count": 8,
   "metadata": {
    "colab": {
     "base_uri": "https://localhost:8080/"
    },
    "executionInfo": {
     "elapsed": 366,
     "status": "ok",
     "timestamp": 1639073225960,
     "user": {
      "displayName": "Jason Goldrosen",
      "photoUrl": "https://lh3.googleusercontent.com/a-/AOh14GgDod0RfRpZL6hFberE-IYwW_VUQByReK5pGZwH-A=s64",
      "userId": "07466216754527706406"
     },
     "user_tz": 300
    },
    "id": "Lx--UpNmN3ir",
    "outputId": "7f20112a-8f8a-47cc-e72f-bb8064f0cc67"
   },
   "outputs": [
    {
     "name": "stdout",
     "output_type": "stream",
     "text": [
      "Product of sizes of 3 largest basins\n",
      "1148965\n"
     ]
    }
   ],
   "source": [
    "def find_basin(x_coord,y_coord,input):\n",
    "  basin = []\n",
    "  basin_end_values = [9]\n",
    "  row = x_coord + 1\n",
    "  basin += [(x_coord,y_coord)]\n",
    "  # Move South\n",
    "  while row < input.shape[0]:\n",
    "    if input[row, y_coord] in basin_end_values:\n",
    "      break\n",
    "    else:\n",
    "      basin += [(row, y_coord)]\n",
    "      row += 1\n",
    "\n",
    "  # Move North\n",
    "  row = x_coord - 1\n",
    "  while row >= 0:\n",
    "    if input[row, y_coord] in basin_end_values:\n",
    "      break\n",
    "    else:\n",
    "      basin += [(row, y_coord)]\n",
    "      row -= 1\n",
    "\n",
    "  # Move West\n",
    "  col = y_coord - 1\n",
    "  while col >= 0:\n",
    "    if input[x_coord, col] in basin_end_values:\n",
    "      break\n",
    "    else:\n",
    "      basin += [(x_coord, col)]\n",
    "      col -= 1\n",
    "\n",
    "  # Move East\n",
    "  col = y_coord + 1\n",
    "  while col < input.shape[1]:\n",
    "    if input[x_coord, col] in basin_end_values:\n",
    "      break\n",
    "    else:\n",
    "      basin += [(x_coord, col)]\n",
    "      col += 1\n",
    "  return basin\n",
    "\n",
    "def find_full_basin(x_coord,y_coord,input):\n",
    "  initial_basin = find_basin(x_coord,y_coord,input)\n",
    "  full_basin = initial_basin\n",
    "  for b in initial_basin:\n",
    "    additional_basin = find_basin(b[0],b[1],input)\n",
    "    new_points = [x for x in additional_basin if x not in full_basin]\n",
    "    full_basin += new_points\n",
    "  return full_basin\n",
    "\n",
    "x_coord,y_coord = 2,2\n",
    "full_basin = find_full_basin(x_coord,y_coord,input)\n",
    "\n",
    "basin_sizes = [len(find_full_basin(x[0],x[1],input)) for x in low_points_list]\n",
    "\n",
    "basin_sizes.sort()\n",
    "product = 1\n",
    "\n",
    "for x in basin_sizes[-3:]:\n",
    "  product *= x\n",
    "\n",
    "print(\"Product of sizes of 3 largest basins\")\n",
    "print(product)  "
   ]
  },
  {
   "cell_type": "code",
   "execution_count": null,
   "metadata": {
    "id": "_eYMI3sHYHd3"
   },
   "outputs": [],
   "source": []
  }
 ],
 "metadata": {
  "colab": {
   "authorship_tag": "ABX9TyMQJxue0Vdrtsau4QfSouzi",
   "name": "2021-12-09-advent-of-code.ipynb",
   "provenance": []
  },
  "kernelspec": {
   "display_name": "Python 3",
   "language": "python",
   "name": "python3"
  },
  "language_info": {
   "codemirror_mode": {
    "name": "ipython",
    "version": 3
   },
   "file_extension": ".py",
   "mimetype": "text/x-python",
   "name": "python",
   "nbconvert_exporter": "python",
   "pygments_lexer": "ipython3",
   "version": "3.6.3"
  }
 },
 "nbformat": 4,
 "nbformat_minor": 2
}
